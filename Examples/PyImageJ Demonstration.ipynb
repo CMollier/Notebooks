{
 "cells": [
  {
   "cell_type": "code",
   "execution_count": null,
   "metadata": {},
   "outputs": [],
   "source": [
    "import imagej\n",
    "from pathlib import Path\n",
    "import os\n",
    "\n",
    "import multiscale.LINK_system.coordinate as coord\n",
    "import multiscale.ultrasound.reconstruction as recon\n",
    "import multiscale.itk.transform as tran\n",
    "import multiscale.itk.registration as reg\n",
    "import multiscale.itk.itk_plotting as iplt"
   ]
  },
  {
   "cell_type": "markdown",
   "metadata": {},
   "source": [
    "# Stitch ultrasound using ImageJ"
   ]
  },
  {
   "cell_type": "code",
   "execution_count": null,
   "metadata": {},
   "outputs": [],
   "source": [
    "data_dir = Path(Path.home(), r'Box\\PyImageJ paper')\n",
    "ij_path = str(Path(data_dir, 'Fiji.app'))\n",
    "ij = imagej.init(ij_path, headless=False)"
   ]
  },
  {
   "cell_type": "code",
   "execution_count": null,
   "metadata": {
    "scrolled": true
   },
   "outputs": [],
   "source": [
    "# Temporary cell until we update ij with window\n",
    "from jnius import autoclass\n",
    "WindowManager = autoclass('ij.WindowManager')\n",
    "ij.window = WindowManager"
   ]
  },
  {
   "cell_type": "markdown",
   "metadata": {},
   "source": [
    "Define the location of files needed for the analysis"
   ]
  },
  {
   "cell_type": "code",
   "execution_count": null,
   "metadata": {},
   "outputs": [],
   "source": [
    "mat_dir = Path(data_dir, r'L38 Fiducial Z13115\\Run-1')\n",
    "intermediate_save_dir = Path(data_dir, r'L38 Fiducial Z13115\\Run-1 Intermediate')\n",
    "output_dir = data_dir\n",
    "pl_path = Path(data_dir, 'L38 Fiducial Z13115.pos')"
   ]
  },
  {
   "cell_type": "markdown",
   "metadata": {},
   "source": [
    "Specify arguments for the stitching"
   ]
  },
  {
   "cell_type": "code",
   "execution_count": null,
   "metadata": {},
   "outputs": [],
   "source": [
    "fuse_args = {'downsampling': 3, 'fused_image': '[Display using ImageJ]'}\n",
    "search_str = 'IQ.mat'\n",
    "output_name = 'L38 fiducial Z13115.tif'\n",
    "overwrite_dataset = True\n",
    "overwrite_tif = True"
   ]
  },
  {
   "cell_type": "markdown",
   "metadata": {},
   "source": [
    "For demonstration purposes, we are sending the stitched image into ImageJ and then extracting the result to numpy"
   ]
  },
  {
   "cell_type": "code",
   "execution_count": null,
   "metadata": {},
   "outputs": [],
   "source": [
    "assembler = recon.UltrasoundImageAssembler(mat_dir, output_dir, ij, pl_path=pl_path, \n",
    "                                           intermediate_save_dir=intermediate_save_dir, \n",
    "                                           fuse_args=fuse_args, search_str=search_str, output_name=output_name,\n",
    "                                           overwrite_dataset=overwrite_dataset, overwrite_tif=overwrite_tif)\n",
    "assembler.assemble_bmode_image()"
   ]
  },
  {
   "cell_type": "markdown",
   "metadata": {},
   "source": [
    "Convert the ImageJ1 image into a numpy array"
   ]
  },
  {
   "cell_type": "code",
   "execution_count": null,
   "metadata": {},
   "outputs": [],
   "source": [
    "us_ij = ij.window.getCurrentImage()\n",
    "us_array = ij.py.from_java(us_ij)"
   ]
  },
  {
   "cell_type": "code",
   "execution_count": null,
   "metadata": {},
   "outputs": [],
   "source": [
    "        def to_window(array, name=None):\n",
    "            \"\"\"\n",
    "            Converts the numpy array into an image window with the specified name\n",
    "            \"\"\"\n",
    "            if name is None:\n",
    "                ij.ui().show(array)\n",
    "            else:\n",
    "                ij.ui().show(name, ij.py.to_java(array))\n",
    "        ij.window.to_window = to_window"
   ]
  },
  {
   "cell_type": "code",
   "execution_count": null,
   "metadata": {},
   "outputs": [],
   "source": [
    "ij.window.to_window"
   ]
  },
  {
   "cell_type": "code",
   "execution_count": null,
   "metadata": {},
   "outputs": [],
   "source": [
    "ij.window.to_window(ij.py.to_java(us_array))"
   ]
  },
  {
   "cell_type": "markdown",
   "metadata": {},
   "source": [
    "Get the voxel size of the ultrasound image"
   ]
  },
  {
   "cell_type": "code",
   "execution_count": null,
   "metadata": {},
   "outputs": [],
   "source": [
    "axialRes = us_ij.getCalibration().pixelHeight\n",
    "lateralRes = us_ij.getCalibration().pixelWidth\n",
    "elevationRes = us_ij.getCalibration().pixelDepth\n",
    "us_spacing = [lateralRes, elevationRes, axialRes]"
   ]
  },
  {
   "cell_type": "markdown",
   "metadata": {},
   "source": [
    "Close the ImageJ1 windows as they are no longer necessary"
   ]
  },
  {
   "cell_type": "code",
   "execution_count": null,
   "metadata": {
    "scrolled": false
   },
   "outputs": [],
   "source": [
    "ij.window.closeAllWindows()"
   ]
  },
  {
   "cell_type": "markdown",
   "metadata": {},
   "source": [
    "# Register ultrasound and microscopy using SimpleITK"
   ]
  },
  {
   "cell_type": "markdown",
   "metadata": {},
   "source": [
    "## Image opening\n",
    "Define and open the image using the multiscale-imaging python package.  This results in two SimpleITK images that are in separate coordinate systems."
   ]
  },
  {
   "cell_type": "code",
   "execution_count": null,
   "metadata": {},
   "outputs": [],
   "source": [
    "# This opens a microscopy image stitched using the Grid/Collection stitching algorith\n",
    "mpm_path = Path(data_dir, r'L38 Fiducial MPM Down4x.tif')\n",
    "\n",
    "# This points to a file that contains the origins of the stitched image\n",
    "mpm_origin_path = Path(data_dir, r'L38 Fiducial MPM settings.ome.tif')\n",
    "\n",
    "# This is an externally measured variable that comes from an indicator gauge and gives the Z/Axial coordinate location\n",
    "us_height = 13115\n",
    "\n",
    "# This points to the settings of the US acquisition for coordinate definition\n",
    "us_param_path = Path(mat_dir, r'L38 fiducial Z' + str(us_height) + '_Run-1_Settings.mat')\n",
    "\n",
    "# This specifies what dynamic range to open the US image in as dB\n",
    "dynamic_range = 50"
   ]
  },
  {
   "cell_type": "code",
   "execution_count": null,
   "metadata": {},
   "outputs": [],
   "source": [
    "mpm_image = coord.open_microscopy(mpm_path, mpm_origin_path, downsample_factor=4)"
   ]
  },
  {
   "cell_type": "code",
   "execution_count": null,
   "metadata": {},
   "outputs": [],
   "source": [
    "us_image = coord.convert_array_to_us(us_array, pl_path, us_param_path, us_spacing, us_height, dynamic_range)"
   ]
  },
  {
   "cell_type": "markdown",
   "metadata": {},
   "source": [
    "## Acquire points\n",
    "Use the manual landmark specification to get the points."
   ]
  },
  {
   "cell_type": "code",
   "execution_count": null,
   "metadata": {},
   "outputs": [],
   "source": [
    "point_interface = iplt.RegistrationPointDataAcquisition(mpm_image, us_image)"
   ]
  },
  {
   "cell_type": "code",
   "execution_count": null,
   "metadata": {},
   "outputs": [],
   "source": [
    "transform = tran.landmarks_to_translation(point_interface.get_points_flat())"
   ]
  },
  {
   "cell_type": "code",
   "execution_count": null,
   "metadata": {},
   "outputs": [],
   "source": [
    "final_transform, metric, stop = reg.register(mpm_image, us_image, initial_transform=initial_transform)"
   ]
  },
  {
   "cell_type": "code",
   "execution_count": null,
   "metadata": {},
   "outputs": [],
   "source": [
    "iplt.plot_overlay(mpm_image, us_image, final_transform, downsample=False)"
   ]
  },
  {
   "cell_type": "code",
   "execution_count": null,
   "metadata": {},
   "outputs": [],
   "source": []
  }
 ],
 "metadata": {
  "kernelspec": {
   "display_name": "Python 3",
   "language": "python",
   "name": "python3"
  },
  "language_info": {
   "codemirror_mode": {
    "name": "ipython",
    "version": 3
   },
   "file_extension": ".py",
   "mimetype": "text/x-python",
   "name": "python",
   "nbconvert_exporter": "python",
   "pygments_lexer": "ipython3",
   "version": "3.6.9"
  }
 },
 "nbformat": 4,
 "nbformat_minor": 2
}
