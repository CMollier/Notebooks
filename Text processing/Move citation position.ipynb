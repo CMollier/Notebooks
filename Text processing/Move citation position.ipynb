{
 "cells": [
  {
   "cell_type": "code",
   "execution_count": 124,
   "metadata": {},
   "outputs": [],
   "source": [
    "import re\n",
    "from pathlib import Path"
   ]
  },
  {
   "cell_type": "code",
   "execution_count": 161,
   "metadata": {},
   "outputs": [],
   "source": [
    "def flip_citation_punctuation(text, direction=\"After\"):\n",
    "    \"\"\"Flip where a latex citation takes place, before or after relevation punctuation.\n",
    "    \n",
    "    text: text to scan for punctuation\n",
    "    direction: either \"After\" to place citation after punctuation, or \"Before\" to place before\n",
    "    \n",
    "    \"\"\"\n",
    "    if direction == \"After\":\n",
    "        te = re.search(\"\\\\\\\\cite{.*?}(,|\\.)\", string=text)\n",
    "\n",
    "        finalstr = \"\"\n",
    "        newstr = text\n",
    "\n",
    "        while te is not None:\n",
    "            if te.start() > 0:\n",
    "                finalstr = finalstr + newstr[0:(te.start()-1)] + newstr[te.end()-1] + newstr[te.start():te.end()-1]\n",
    "            else:\n",
    "                finalstr = finalstr + newstr[te.end()-1] + newstr[te.start():te.end()-1]\n",
    "\n",
    "            newstr = newstr[(te.end()):]\n",
    "            te = re.search(\"\\\\\\\\cite{.*?}(,|\\.)\", string=newstr)\n",
    "\n",
    "        finalstr = finalstr + newstr\n",
    "\n",
    "        return finalstr\n",
    "    \n",
    "    elif direction == \"Before\":\n",
    "        te = re.search(\"(,|\\.)\\\\\\\\cite{.*?}\", string=text)\n",
    "\n",
    "        finalstr = \"\"\n",
    "        newstr = text\n",
    "\n",
    "        while te is not None:\n",
    "            if te.start() > 0:\n",
    "                finalstr = finalstr + newstr[0:(te.start())] + \" \" + newstr[(te.start()+1):(te.end())] + newstr[te.start()]\n",
    "            else:\n",
    "                finalstr = finalstr + \" \" + newstr[(te.start()+1):(te.end())] + newstr[te.start()]\n",
    "\n",
    "            newstr = newstr[(te.end()):]\n",
    "            te = re.search(\"(,|\\.)\\\\\\\\cite{.*?}\", string=newstr)\n",
    "\n",
    "        finalstr = finalstr + newstr\n",
    "\n",
    "        return finalstr"
   ]
  },
  {
   "cell_type": "code",
   "execution_count": 125,
   "metadata": {},
   "outputs": [],
   "source": [
    "file_path = Path(r'C:\\Users\\mpinkert\\Dropbox (LOCI)\\Apps\\Overleaf\\Tools for multiscale imaging of collagen\\chapters\\QUS\\QUS.tex')"
   ]
  },
  {
   "cell_type": "code",
   "execution_count": 128,
   "metadata": {},
   "outputs": [],
   "source": [
    "with open(file_path, \"r\") as f:\n",
    "    contents = f.read()"
   ]
  },
  {
   "cell_type": "code",
   "execution_count": 134,
   "metadata": {},
   "outputs": [],
   "source": [
    "new_doc = flip_citation_punctuation(contents)"
   ]
  },
  {
   "cell_type": "code",
   "execution_count": 131,
   "metadata": {},
   "outputs": [],
   "source": [
    "result_path = Path(r'C:\\Users\\mpinkert\\Dropbox (LOCI)\\Apps\\Overleaf\\Tools for multiscale imaging of collagen\\chapters\\QUS\\QUS_flipped.tex')"
   ]
  },
  {
   "cell_type": "code",
   "execution_count": 135,
   "metadata": {},
   "outputs": [],
   "source": [
    "with open(result_path, \"w\") as f:\n",
    "    f.write(new_doc)"
   ]
  },
  {
   "cell_type": "code",
   "execution_count": null,
   "metadata": {},
   "outputs": [],
   "source": []
  }
 ],
 "metadata": {
  "kernelspec": {
   "display_name": "Python 3",
   "language": "python",
   "name": "python3"
  },
  "language_info": {
   "codemirror_mode": {
    "name": "ipython",
    "version": 3
   },
   "file_extension": ".py",
   "mimetype": "text/x-python",
   "name": "python",
   "nbconvert_exporter": "python",
   "pygments_lexer": "ipython3",
   "version": "3.6.6"
  }
 },
 "nbformat": 4,
 "nbformat_minor": 2
}
