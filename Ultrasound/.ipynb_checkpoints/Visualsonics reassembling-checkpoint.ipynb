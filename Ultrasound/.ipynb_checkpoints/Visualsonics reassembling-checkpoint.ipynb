{
 "cells": [
  {
   "cell_type": "code",
   "execution_count": 10,
   "metadata": {},
   "outputs": [],
   "source": [
    "from pathlib import Path\n",
    "import tiffile as tif\n",
    "import numpy as np\n",
    "import multiscale.utility_functions as util\n",
    "import os\n",
    "import h5py"
   ]
  },
  {
   "cell_type": "code",
   "execution_count": 88,
   "metadata": {},
   "outputs": [],
   "source": [
    "def save_us_image(path, bmode, spacing):\n",
    "    print('Saving {}'.format(path))\n",
    "    ijstyle = bmode\n",
    "    shape = ijstyle.shape\n",
    "    ijstyle.shape = 1, shape[0], 1, shape[1], shape[2], 1\n",
    "\n",
    "    tif.imwrite(path, ijstyle.astype(np.float32), imagej=True,\n",
    "                resolution=(1./spacing[0], 1./spacing[1]),\n",
    "                metadata={'spacing': spacing[2], 'unit': 'um'})\n",
    "    \n",
    "def open_image(path):\n",
    "    try:\n",
    "        return util.load_mat(str(path))\n",
    "    except NotImplementedError:\n",
    "        mat = {}\n",
    "        with h5py.File(str(path), 'r') as file:\n",
    "            mat['IQData'] = np.array(file['IQData'])\n",
    "            param = dict(file['param'])\n",
    "            for key in param:\n",
    "                param[key] = param[key][0][0]\n",
    "            mat['param'] = param\n",
    "        return mat\n",
    "    \n",
    "def get_spacing(data_dict):\n",
    "    shape = np.shape(data_dict['IQData'])\n",
    "    params = data_dict['param']\n",
    "    lat_spacing = params['BmodeWidth']/shape[1]\n",
    "    ax_spacing = params['BmodeDepth']/shape[0]\n",
    "    spacing = [lat_spacing*1000, ax_spacing*1000, params['StepSize3D']*1000]\n",
    "    return spacing\n",
    "\n",
    "def iq_to_bmode(IQData):\n",
    "    bmode_rotated = 20*np.log10(np.abs(IQData)+1)\n",
    "    bmode = np.transpose(bmode_rotated, [2, 0, 1])\n",
    "    return bmode\n",
    "\n",
    "def convert_to_tif(path, output_path):\n",
    "    data = open_image(path)\n",
    "    bmode = iq_to_bmode(data['IQData'])\n",
    "    spacing = get_spacing(data)\n",
    "    save_us_image(output_path, bmode, spacing)\n",
    "    \n",
    "    "
   ]
  },
  {
   "cell_type": "code",
   "execution_count": 7,
   "metadata": {},
   "outputs": [],
   "source": [
    "base_path = r'C:\\Users\\mpinkert\\Box\\Eliceiri transducer testing_2019-05-01-14-07-44_Weichmann A\\IQ files 5-15-19'"
   ]
  },
  {
   "cell_type": "code",
   "execution_count": 4,
   "metadata": {},
   "outputs": [],
   "source": [
    "name_list = ['Mam003', 'Mam205', 'Mam209', 'Mam211', 'Mam215', 'Mam1204']\n",
    "\n",
    "output_folder = r'C:\\Users\\mpinkert\\Box\\Eliceiri transducer testing_2019-05-01-14-07-44_Weichmann A\\IQ files 5-15-19'"
   ]
  },
  {
   "cell_type": "code",
   "execution_count": 5,
   "metadata": {},
   "outputs": [],
   "source": [
    "transducer_names = ['MS700', 'MS400', 'MS550D']\n"
   ]
  },
  {
   "cell_type": "code",
   "execution_count": 91,
   "metadata": {},
   "outputs": [
    {
     "ename": "TypeError",
     "evalue": "ufunc 'absolute' did not contain a loop with signature matching types dtype([('real', '<f8'), ('imag', '<f8')]) dtype([('real', '<f8'), ('imag', '<f8')])",
     "output_type": "error",
     "traceback": [
      "\u001b[1;31m---------------------------------------------------------------------------\u001b[0m",
      "\u001b[1;31mTypeError\u001b[0m                                 Traceback (most recent call last)",
      "\u001b[1;32m<ipython-input-91-8f83a81ef7cf>\u001b[0m in \u001b[0;36m<module>\u001b[1;34m()\u001b[0m\n\u001b[0;32m      7\u001b[0m         \u001b[1;32mif\u001b[0m \u001b[0moutput_path\u001b[0m\u001b[1;33m.\u001b[0m\u001b[0mis_file\u001b[0m\u001b[1;33m(\u001b[0m\u001b[1;33m)\u001b[0m\u001b[1;33m:\u001b[0m\u001b[1;33m\u001b[0m\u001b[0m\n\u001b[0;32m      8\u001b[0m             \u001b[1;32mcontinue\u001b[0m\u001b[1;33m\u001b[0m\u001b[0m\n\u001b[1;32m----> 9\u001b[1;33m         \u001b[0mconvert_to_tif\u001b[0m\u001b[1;33m(\u001b[0m\u001b[0minput_path\u001b[0m\u001b[1;33m,\u001b[0m \u001b[0moutput_path\u001b[0m\u001b[1;33m)\u001b[0m\u001b[1;33m\u001b[0m\u001b[0m\n\u001b[0m",
      "\u001b[1;32m<ipython-input-88-f90e505d52f6>\u001b[0m in \u001b[0;36mconvert_to_tif\u001b[1;34m(path, output_path)\u001b[0m\n\u001b[0;32m     37\u001b[0m \u001b[1;32mdef\u001b[0m \u001b[0mconvert_to_tif\u001b[0m\u001b[1;33m(\u001b[0m\u001b[0mpath\u001b[0m\u001b[1;33m,\u001b[0m \u001b[0moutput_path\u001b[0m\u001b[1;33m)\u001b[0m\u001b[1;33m:\u001b[0m\u001b[1;33m\u001b[0m\u001b[0m\n\u001b[0;32m     38\u001b[0m     \u001b[0mdata\u001b[0m \u001b[1;33m=\u001b[0m \u001b[0mopen_image\u001b[0m\u001b[1;33m(\u001b[0m\u001b[0mpath\u001b[0m\u001b[1;33m)\u001b[0m\u001b[1;33m\u001b[0m\u001b[0m\n\u001b[1;32m---> 39\u001b[1;33m     \u001b[0mbmode\u001b[0m \u001b[1;33m=\u001b[0m \u001b[0miq_to_bmode\u001b[0m\u001b[1;33m(\u001b[0m\u001b[0mdata\u001b[0m\u001b[1;33m[\u001b[0m\u001b[1;34m'IQData'\u001b[0m\u001b[1;33m]\u001b[0m\u001b[1;33m)\u001b[0m\u001b[1;33m\u001b[0m\u001b[0m\n\u001b[0m\u001b[0;32m     40\u001b[0m     \u001b[0mspacing\u001b[0m \u001b[1;33m=\u001b[0m \u001b[0mget_spacing\u001b[0m\u001b[1;33m(\u001b[0m\u001b[0mdata\u001b[0m\u001b[1;33m)\u001b[0m\u001b[1;33m\u001b[0m\u001b[0m\n\u001b[0;32m     41\u001b[0m     \u001b[0msave_us_image\u001b[0m\u001b[1;33m(\u001b[0m\u001b[0moutput_path\u001b[0m\u001b[1;33m,\u001b[0m \u001b[0mbmode\u001b[0m\u001b[1;33m,\u001b[0m \u001b[0mspacing\u001b[0m\u001b[1;33m)\u001b[0m\u001b[1;33m\u001b[0m\u001b[0m\n",
      "\u001b[1;32m<ipython-input-88-f90e505d52f6>\u001b[0m in \u001b[0;36miq_to_bmode\u001b[1;34m(IQData)\u001b[0m\n\u001b[0;32m     31\u001b[0m \u001b[1;33m\u001b[0m\u001b[0m\n\u001b[0;32m     32\u001b[0m \u001b[1;32mdef\u001b[0m \u001b[0miq_to_bmode\u001b[0m\u001b[1;33m(\u001b[0m\u001b[0mIQData\u001b[0m\u001b[1;33m)\u001b[0m\u001b[1;33m:\u001b[0m\u001b[1;33m\u001b[0m\u001b[0m\n\u001b[1;32m---> 33\u001b[1;33m     \u001b[0mbmode_rotated\u001b[0m \u001b[1;33m=\u001b[0m \u001b[1;36m20\u001b[0m\u001b[1;33m*\u001b[0m\u001b[0mnp\u001b[0m\u001b[1;33m.\u001b[0m\u001b[0mlog10\u001b[0m\u001b[1;33m(\u001b[0m\u001b[0mnp\u001b[0m\u001b[1;33m.\u001b[0m\u001b[0mabs\u001b[0m\u001b[1;33m(\u001b[0m\u001b[0mIQData\u001b[0m\u001b[1;33m)\u001b[0m\u001b[1;33m+\u001b[0m\u001b[1;36m1\u001b[0m\u001b[1;33m)\u001b[0m\u001b[1;33m\u001b[0m\u001b[0m\n\u001b[0m\u001b[0;32m     34\u001b[0m     \u001b[0mbmode\u001b[0m \u001b[1;33m=\u001b[0m \u001b[0mnp\u001b[0m\u001b[1;33m.\u001b[0m\u001b[0mtranspose\u001b[0m\u001b[1;33m(\u001b[0m\u001b[0mbmode_rotated\u001b[0m\u001b[1;33m,\u001b[0m \u001b[1;33m[\u001b[0m\u001b[1;36m2\u001b[0m\u001b[1;33m,\u001b[0m \u001b[1;36m0\u001b[0m\u001b[1;33m,\u001b[0m \u001b[1;36m1\u001b[0m\u001b[1;33m]\u001b[0m\u001b[1;33m)\u001b[0m\u001b[1;33m\u001b[0m\u001b[0m\n\u001b[0;32m     35\u001b[0m     \u001b[1;32mreturn\u001b[0m \u001b[0mbmode\u001b[0m\u001b[1;33m\u001b[0m\u001b[0m\n",
      "\u001b[1;31mTypeError\u001b[0m: ufunc 'absolute' did not contain a loop with signature matching types dtype([('real', '<f8'), ('imag', '<f8')]) dtype([('real', '<f8'), ('imag', '<f8')])"
     ]
    }
   ],
   "source": [
    "for name in range(len(transducer_names)):\n",
    "    acquisition_folder = Path(output_folder, transducer_names[name])\n",
    "    os.makedirs(str(acquisition_folder), exist_ok=True)\n",
    "    for image in range(len(name_list)):\n",
    "        input_path = Path(base_path, transducer_names[name], name_list[image] + '.mat')\n",
    "        output_path = Path(output_folder, transducer_names[name], name_list[image] + '.tif')\n",
    "        if output_path.is_file():\n",
    "            continue\n",
    "        convert_to_tif(input_path, output_path)"
   ]
  },
  {
   "cell_type": "code",
   "execution_count": 89,
   "metadata": {},
   "outputs": [],
   "source": [
    "test_path = Path(base_path, transducer_names[0], name_list[0] + '.mat')\n",
    "data = open_image(test_path)"
   ]
  },
  {
   "cell_type": "code",
   "execution_count": 107,
   "metadata": {},
   "outputs": [],
   "source": [
    "test = data['IQData'][:, :, :]"
   ]
  },
  {
   "cell_type": "code",
   "execution_count": null,
   "metadata": {},
   "outputs": [],
   "source": []
  }
 ],
 "metadata": {
  "kernelspec": {
   "display_name": "Python 3",
   "language": "python",
   "name": "python3"
  },
  "language_info": {
   "codemirror_mode": {
    "name": "ipython",
    "version": 3
   },
   "file_extension": ".py",
   "mimetype": "text/x-python",
   "name": "python",
   "nbconvert_exporter": "python",
   "pygments_lexer": "ipython3",
   "version": "3.6.6"
  }
 },
 "nbformat": 4,
 "nbformat_minor": 2
}
