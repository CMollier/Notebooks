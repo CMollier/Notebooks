{
 "cells": [
  {
   "cell_type": "code",
   "execution_count": 1,
   "metadata": {},
   "outputs": [],
   "source": [
    "from pathlib import Path\n",
    "import tiffile as tif\n",
    "import numpy as np\n",
    "import multiscale.utility_functions as util\n",
    "import os\n",
    "import h5py"
   ]
  },
  {
   "cell_type": "code",
   "execution_count": 13,
   "metadata": {},
   "outputs": [],
   "source": [
    "def save_us_image(path, bmode, spacing):\n",
    "    print('Saving {}'.format(path))\n",
    "    ijstyle = bmode\n",
    "    shape = ijstyle.shape\n",
    "    ijstyle.shape = 1, shape[0], 1, shape[1], shape[2], 1\n",
    "    tif.imwrite(path, ijstyle.astype(np.float32), imagej=True,\n",
    "                resolution=(1./spacing[0], 1./spacing[1]),\n",
    "                metadata={'spacing': spacing[2], 'unit': 'um'})\n",
    "    \n",
    "def open_image(path):\n",
    "    try:\n",
    "        mat = util.load_mat(str(path))\n",
    "        mat['IQData'] = np.transpose(mat['IQData'], [2, 0, 1])\n",
    "        return util.load_mat(str(path))\n",
    "    except NotImplementedError:\n",
    "        mat = {}\n",
    "        with h5py.File(str(path), 'r') as file:\n",
    "            iqdata = np.array(file['IQData'])\n",
    "            vectorized_tocomplex = np.vectorize(to_complex)\n",
    "            mat['IQData'] = vectorized_tocomplex(iqdata)\n",
    "            mat['IQData'] = np.transpose(mat['IQData'], [0, 2, 1])\n",
    "            mat['IQData'] = np.flip(mat['IQData'], 0)\n",
    "            param = dict(file['param'])\n",
    "            for key in param:\n",
    "                param[key] = param[key][0][0]\n",
    "            mat['param'] = param\n",
    "        return mat\n",
    "    \n",
    "def to_complex(element):\n",
    "    return element[0] + 1j*element[1]\n",
    "    \n",
    "def get_spacing(data_dict):\n",
    "    shape = np.shape(data_dict['IQData'])\n",
    "    params = data_dict['param']\n",
    "    lat_spacing = params['BmodeWidth']/shape[2]\n",
    "    ax_spacing = params['BmodeDepth']/shape[1]\n",
    "    spacing = [lat_spacing*1000, ax_spacing*1000, params['StepSize3D']*1000]\n",
    "    return spacing\n",
    "\n",
    "def iq_to_bmode(IQData, epsilon=0.001):\n",
    "    return 20*np.log10(np.abs(IQData)+epsilon)\n",
    "\n",
    "def convert_to_tif(path, output_path):\n",
    "    data = open_image(path)\n",
    "    bmode = iq_to_bmode(data['IQData'])\n",
    "    spacing = get_spacing(data)\n",
    "    save_us_image(output_path, bmode, spacing)\n",
    "    \n",
    "    "
   ]
  },
  {
   "cell_type": "code",
   "execution_count": 3,
   "metadata": {},
   "outputs": [],
   "source": [
    "base_path = r'C:\\Users\\mpinkert\\Box\\Eliceiri transducer testing_2019-05-01-14-07-44_Weichmann A\\IQ files 5-15-19'"
   ]
  },
  {
   "cell_type": "code",
   "execution_count": 4,
   "metadata": {},
   "outputs": [],
   "source": [
    "name_list = ['Mam003', 'Mam205', 'Mam209', 'Mam211', 'Mam215', 'Mam1204']\n",
    "\n",
    "output_folder = r'C:\\Users\\mpinkert\\Box\\Eliceiri transducer testing_2019-05-01-14-07-44_Weichmann A\\IQ files 5-15-19'"
   ]
  },
  {
   "cell_type": "code",
   "execution_count": 5,
   "metadata": {},
   "outputs": [],
   "source": [
    "transducer_names = ['MS700', 'MS400', 'MS550D']\n"
   ]
  },
  {
   "cell_type": "code",
   "execution_count": 14,
   "metadata": {},
   "outputs": [
    {
     "name": "stdout",
     "output_type": "stream",
     "text": [
      "Saving C:\\Users\\mpinkert\\Box\\Eliceiri transducer testing_2019-05-01-14-07-44_Weichmann A\\IQ files 5-15-19\\MS700\\Mam003.tif\n",
      "Saving C:\\Users\\mpinkert\\Box\\Eliceiri transducer testing_2019-05-01-14-07-44_Weichmann A\\IQ files 5-15-19\\MS700\\Mam205.tif\n",
      "Saving C:\\Users\\mpinkert\\Box\\Eliceiri transducer testing_2019-05-01-14-07-44_Weichmann A\\IQ files 5-15-19\\MS700\\Mam209.tif\n",
      "Saving C:\\Users\\mpinkert\\Box\\Eliceiri transducer testing_2019-05-01-14-07-44_Weichmann A\\IQ files 5-15-19\\MS700\\Mam211.tif\n",
      "Saving C:\\Users\\mpinkert\\Box\\Eliceiri transducer testing_2019-05-01-14-07-44_Weichmann A\\IQ files 5-15-19\\MS700\\Mam215.tif\n",
      "Saving C:\\Users\\mpinkert\\Box\\Eliceiri transducer testing_2019-05-01-14-07-44_Weichmann A\\IQ files 5-15-19\\MS700\\Mam1204.tif\n",
      "Saving C:\\Users\\mpinkert\\Box\\Eliceiri transducer testing_2019-05-01-14-07-44_Weichmann A\\IQ files 5-15-19\\MS400\\Mam003.tif\n",
      "Saving C:\\Users\\mpinkert\\Box\\Eliceiri transducer testing_2019-05-01-14-07-44_Weichmann A\\IQ files 5-15-19\\MS400\\Mam205.tif\n",
      "Saving C:\\Users\\mpinkert\\Box\\Eliceiri transducer testing_2019-05-01-14-07-44_Weichmann A\\IQ files 5-15-19\\MS400\\Mam209.tif\n",
      "Saving C:\\Users\\mpinkert\\Box\\Eliceiri transducer testing_2019-05-01-14-07-44_Weichmann A\\IQ files 5-15-19\\MS400\\Mam211.tif\n",
      "Saving C:\\Users\\mpinkert\\Box\\Eliceiri transducer testing_2019-05-01-14-07-44_Weichmann A\\IQ files 5-15-19\\MS400\\Mam215.tif\n",
      "Saving C:\\Users\\mpinkert\\Box\\Eliceiri transducer testing_2019-05-01-14-07-44_Weichmann A\\IQ files 5-15-19\\MS400\\Mam1204.tif\n",
      "Saving C:\\Users\\mpinkert\\Box\\Eliceiri transducer testing_2019-05-01-14-07-44_Weichmann A\\IQ files 5-15-19\\MS550D\\Mam003.tif\n",
      "Saving C:\\Users\\mpinkert\\Box\\Eliceiri transducer testing_2019-05-01-14-07-44_Weichmann A\\IQ files 5-15-19\\MS550D\\Mam205.tif\n",
      "Saving C:\\Users\\mpinkert\\Box\\Eliceiri transducer testing_2019-05-01-14-07-44_Weichmann A\\IQ files 5-15-19\\MS550D\\Mam209.tif\n",
      "Saving C:\\Users\\mpinkert\\Box\\Eliceiri transducer testing_2019-05-01-14-07-44_Weichmann A\\IQ files 5-15-19\\MS550D\\Mam211.tif\n",
      "Saving C:\\Users\\mpinkert\\Box\\Eliceiri transducer testing_2019-05-01-14-07-44_Weichmann A\\IQ files 5-15-19\\MS550D\\Mam215.tif\n",
      "Saving C:\\Users\\mpinkert\\Box\\Eliceiri transducer testing_2019-05-01-14-07-44_Weichmann A\\IQ files 5-15-19\\MS550D\\Mam1204.tif\n"
     ]
    }
   ],
   "source": [
    "for name in range(len(transducer_names)):\n",
    "    acquisition_folder = Path(output_folder, transducer_names[name])\n",
    "    os.makedirs(str(acquisition_folder), exist_ok=True)\n",
    "    for image in range(len(name_list)):\n",
    "        input_path = Path(base_path, transducer_names[name], name_list[image] + '.mat')\n",
    "        output_path = Path(output_folder, transducer_names[name], name_list[image] + '.tif')\n",
    "         if output_path.is_file():\n",
    "            continue\n",
    "        convert_to_tif(input_path, output_path)"
   ]
  },
  {
   "cell_type": "code",
   "execution_count": 6,
   "metadata": {},
   "outputs": [],
   "source": [
    "test_path = Path(base_path, transducer_names[0], name_list[0] + '.mat')\n",
    "data = open_image(test_path)"
   ]
  },
  {
   "cell_type": "code",
   "execution_count": 7,
   "metadata": {},
   "outputs": [
    {
     "data": {
      "text/plain": [
       "(447, 512, 664)"
      ]
     },
     "execution_count": 7,
     "metadata": {},
     "output_type": "execute_result"
    }
   ],
   "source": [
    "np.shape(data['IQData'])"
   ]
  },
  {
   "cell_type": "code",
   "execution_count": null,
   "metadata": {},
   "outputs": [],
   "source": []
  }
 ],
 "metadata": {
  "kernelspec": {
   "display_name": "Python 3",
   "language": "python",
   "name": "python3"
  },
  "language_info": {
   "codemirror_mode": {
    "name": "ipython",
    "version": 3
   },
   "file_extension": ".py",
   "mimetype": "text/x-python",
   "name": "python",
   "nbconvert_exporter": "python",
   "pygments_lexer": "ipython3",
   "version": "3.6.6"
  }
 },
 "nbformat": 4,
 "nbformat_minor": 2
}
