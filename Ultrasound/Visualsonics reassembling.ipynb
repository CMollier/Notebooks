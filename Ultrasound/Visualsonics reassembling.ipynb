{
 "cells": [
  {
   "cell_type": "code",
   "execution_count": 1,
   "metadata": {},
   "outputs": [],
   "source": [
    "from pathlib import Path\n",
    "import tiffile as tif\n",
    "import numpy as np\n",
    "import multiscale.utility_functions as util\n",
    "import os"
   ]
  },
  {
   "cell_type": "code",
   "execution_count": 2,
   "metadata": {},
   "outputs": [],
   "source": [
    "def save_us_image(path, bmode, spacing):\n",
    "    print('Saving {}'.format(path))\n",
    "    ijstyle = bmode\n",
    "    shape = ijstyle.shape\n",
    "    ijstyle.shape = 1, shape[0], 1, shape[1], shape[2], 1\n",
    "\n",
    "    tif.imwrite(path, ijstyle.astype(np.float32), imagej=True,\n",
    "                resolution=(1./spacing[0], 1./spacing[1]),\n",
    "                metadata={'spacing': spacing[2], 'unit': 'um'})\n",
    "    \n",
    "def open_image(path):\n",
    "    return util.load_mat(str(path))\n",
    "    \n",
    "def get_spacing(data_dict):\n",
    "    shape = np.shape(data_dict['IQData'])\n",
    "    params = data_dict['param']\n",
    "    lat_spacing = params['BmodeWidth']/shape[1]\n",
    "    ax_spacing = params['BmodeDepth']/shape[0]\n",
    "    spacing = [lat_spacing*1000, ax_spacing*1000, params['StepSize3D']*1000]\n",
    "    return spacing\n",
    "\n",
    "def iq_to_bmode(IQData):\n",
    "    bmode_rotated = 20*np.log10(np.abs(IQData)+1)\n",
    "    bmode = np.transpose(bmode_rotated, [2, 0, 1])\n",
    "    return bmode\n",
    "\n",
    "def convert_to_tif(path, output_path):\n",
    "    data = open_image(path)\n",
    "    bmode = iq_to_bmode(data['IQData'])\n",
    "    spacing = get_spacing(data)\n",
    "    save_us_image(output_path, bmode, spacing)\n",
    "    \n",
    "    "
   ]
  },
  {
   "cell_type": "code",
   "execution_count": 3,
   "metadata": {},
   "outputs": [],
   "source": [
    "output_folder = r'C:\\Users\\mpinkert\\Box\\Eliceiri transducer testing_2019-05-01-14-07-44_Weichmann A\\IQ files\\Images'"
   ]
  },
  {
   "cell_type": "code",
   "execution_count": 16,
   "metadata": {},
   "outputs": [],
   "source": [
    "name_list = ['Mammary over 1% agarose', 'Mammary over sand', 'ROI 1', 'ROI 2', 'ROI 3', 'ROI 3 - water', 'ROI 2 - water', \n",
    "             'ROI 1 - water']\n",
    "\n",
    "base_path = r'C:\\Users\\mpinkert\\Box\\Eliceiri transducer testing_2019-05-01-14-07-44_Weichmann A\\IQ files'"
   ]
  },
  {
   "cell_type": "code",
   "execution_count": 17,
   "metadata": {},
   "outputs": [],
   "source": [
    "transducer_names = ['MS700', 'MS400', 'MS250', 'MS550D']\n"
   ]
  },
  {
   "cell_type": "code",
   "execution_count": 18,
   "metadata": {},
   "outputs": [
    {
     "name": "stdout",
     "output_type": "stream",
     "text": [
      "Saving C:\\Users\\mpinkert\\Box\\Eliceiri transducer testing_2019-05-01-14-07-44_Weichmann A\\IQ files\\Images\\Glass Bead Phantom\\MS700.tif\n",
      "Saving C:\\Users\\mpinkert\\Box\\Eliceiri transducer testing_2019-05-01-14-07-44_Weichmann A\\IQ files\\Images\\Glass Bead Phantom\\MS400.tif\n",
      "Saving C:\\Users\\mpinkert\\Box\\Eliceiri transducer testing_2019-05-01-14-07-44_Weichmann A\\IQ files\\Images\\Glass Bead Phantom\\MS250.tif\n",
      "Saving C:\\Users\\mpinkert\\Box\\Eliceiri transducer testing_2019-05-01-14-07-44_Weichmann A\\IQ files\\Images\\Glass Bead Phantom\\MS550D.tif\n"
     ]
    }
   ],
   "source": [
    "for name in range(len(transducer_names)):\n",
    "    acquisition_folder = Path(output_folder, transducer_names[name])\n",
    "    os.makedirs(str(acquisition_folder), exist_ok=True)\n",
    "    for image in range(len(name_list)):\n",
    "        input_path = Path(base_path, transducer_names[name], name_list[image] + '.mat')\n",
    "        output_path = Path(output_folder, transducer_names[name], name_list[image] + '.tif')\n",
    "        if output_path.is_file():\n",
    "            continue\n",
    "        convert_to_tif(input_path, output_path)"
   ]
  },
  {
   "cell_type": "code",
   "execution_count": null,
   "metadata": {},
   "outputs": [],
   "source": [
    "np.shape(data_dict['IQData'])"
   ]
  },
  {
   "cell_type": "code",
   "execution_count": null,
   "metadata": {},
   "outputs": [],
   "source": []
  }
 ],
 "metadata": {
  "kernelspec": {
   "display_name": "Python 3",
   "language": "python",
   "name": "python3"
  },
  "language_info": {
   "codemirror_mode": {
    "name": "ipython",
    "version": 3
   },
   "file_extension": ".py",
   "mimetype": "text/x-python",
   "name": "python",
   "nbconvert_exporter": "python",
   "pygments_lexer": "ipython3",
   "version": "3.6.6"
  }
 },
 "nbformat": 4,
 "nbformat_minor": 2
}
