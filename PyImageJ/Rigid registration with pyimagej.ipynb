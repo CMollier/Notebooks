{
 "cells": [
  {
   "cell_type": "markdown",
   "metadata": {},
   "source": [
    "# Running a plugin that uses ImageJ1 windows\n",
    "Running a plugin that uses ImageJ1 windows requires using ImageJ in GUI mode and requires handling the resulting windows.  Each plugin may have unique behavior to pay attention to.  E.g., the Rigid Registration plugin requires specific pixel types and operates on the currently selected window."
   ]
  },
  {
   "cell_type": "code",
   "execution_count": 1,
   "metadata": {},
   "outputs": [
    {
     "name": "stdout",
     "output_type": "stream",
     "text": [
      "Added 383 JARs to the Java classpath.\n"
     ]
    },
    {
     "name": "stderr",
     "output_type": "stream",
     "text": [
      "WARNING 2019-11-12 12:06:16,245: JVM is already running, will not add endpoints to classpath -- required classes might not be on classpath..\n"
     ]
    }
   ],
   "source": [
    "# The specified fiji install does not seem to ship with rigid registration plugin.  I directed it to my local install.  Just replace the path with the one to your own.\n",
    "import imagej\n",
    "#ij = imagej.init('sc.fiji:fiji')\n",
    "\n",
    "# Rigid Registration does not have a headless version.  You need to specify that ImageJ will NOT be operating in headless mode.\n",
    "ij = imagej.init('C:/Users/michael/Fiji.app', headless=False)"
   ]
  },
  {
   "cell_type": "code",
   "execution_count": 2,
   "metadata": {},
   "outputs": [],
   "source": [
    "from skimage import io\n",
    "import numpy as np"
   ]
  },
  {
   "cell_type": "code",
   "execution_count": 3,
   "metadata": {},
   "outputs": [],
   "source": [
    "import os\n",
    "cwd = os.getcwd()"
   ]
  },
  {
   "cell_type": "code",
   "execution_count": 4,
   "metadata": {},
   "outputs": [],
   "source": [
    "from jnius import autoclass\n",
    "WindowManager = autoclass('ij.WindowManager')"
   ]
  },
  {
   "cell_type": "code",
   "execution_count": null,
   "metadata": {},
   "outputs": [],
   "source": [
    "original_img = io.imread('https://acdbio.com/sites/default/files/styles/sample_image/public/M-IL-8-8-hr_0.jpg')"
   ]
  },
  {
   "cell_type": "code",
   "execution_count": null,
   "metadata": {},
   "outputs": [],
   "source": [
    "moving_img = np.mean(original_img, axis=2)"
   ]
  },
  {
   "cell_type": "code",
   "execution_count": null,
   "metadata": {},
   "outputs": [],
   "source": [
    "# Let's make the fixed image a translated image so that we can see if the plugin works.\n",
    "imshape = np.shape(moving_img)\n",
    "fixed_img = np.zeros(imshape)\n",
    "fixed_img[40:, 40:] = moving_img[0:(imshape[0]-40), 0:(imshape[1]-40)]"
   ]
  },
  {
   "cell_type": "code",
   "execution_count": null,
   "metadata": {
    "scrolled": false
   },
   "outputs": [],
   "source": [
    "# Rigid Registration only allows a few pixel types, such as 8-bit grayscale\n",
    "ij.ui().show('fixed image', ij.py.to_java(fixed_img))\n",
    "ij.py.run_macro(\"\"\"run(\"8-bit\");\"\"\")\n",
    "\n",
    "# You need to specify that no changes have been made, or else the close window dialogue at the end will ask for confirmation.\n",
    "img = WindowManager.getCurrentImage()\n",
    "img.changes = False\n",
    "\n",
    "ij.ui().show('moving image', ij.py.to_java(moving_img))\n",
    "ij.py.run_macro(\"\"\"run(\"8-bit\");\"\"\")\n",
    "img = WindowManager.getCurrentImage()\n",
    "img.changes = False\n"
   ]
  },
  {
   "cell_type": "code",
   "execution_count": null,
   "metadata": {},
   "outputs": [],
   "source": [
    "# Define the plugin parameters.  You can apply the registration to as many open images as you want.  Simple keep adding key/value pairs with 'Image name': True, as with the 'moving image': True below\n",
    "plugin = 'Rigid Registration'\n",
    "\n",
    "args = { \n",
    "    'initialtransform': [],\n",
    "    'n': 1,\n",
    "    'tolerance': 1.000,\n",
    "    'level': 4,\n",
    "    'stoplevel': 2,\n",
    "    'materialcenterandbbox': [],\n",
    "    'showtransformed': 1,\n",
    "    'template': 'fixed image',\n",
    "    'measure': 'Correlation',\n",
    "    'moving image': True\n",
    "}"
   ]
  },
  {
   "cell_type": "code",
   "execution_count": null,
   "metadata": {
    "scrolled": true
   },
   "outputs": [],
   "source": [
    "ij.py.run_plugin(plugin, args)"
   ]
  },
  {
   "cell_type": "code",
   "execution_count": null,
   "metadata": {
    "scrolled": true
   },
   "outputs": [],
   "source": [
    "# The window should be open in ImageJ if you are running this cell-by-cell; if not, here you can see the result.\n",
    "result = WindowManager.getCurrentImage()\n",
    "ij.py.show(result)"
   ]
  },
  {
   "cell_type": "code",
   "execution_count": null,
   "metadata": {},
   "outputs": [],
   "source": [
    "# Get the numpy array out of the image.  You must do this before closing the windows.\n",
    "result_array = ij.py.from_java(result)\n",
    "result_array"
   ]
  },
  {
   "cell_type": "code",
   "execution_count": null,
   "metadata": {},
   "outputs": [],
   "source": [
    "# Close the windows in Fiji.\n",
    "WindowManager.closeAllWindows()"
   ]
  }
 ],
 "metadata": {
  "kernelspec": {
   "display_name": "Python 3",
   "language": "python",
   "name": "python3"
  },
  "language_info": {
   "codemirror_mode": {
    "name": "ipython",
    "version": 3
   },
   "file_extension": ".py",
   "mimetype": "text/x-python",
   "name": "python",
   "nbconvert_exporter": "python",
   "pygments_lexer": "ipython3",
   "version": "3.6.9"
  }
 },
 "nbformat": 4,
 "nbformat_minor": 2
}
