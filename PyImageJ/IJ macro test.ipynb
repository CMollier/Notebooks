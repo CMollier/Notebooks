{
 "cells": [
  {
   "cell_type": "code",
   "execution_count": 2,
   "metadata": {},
   "outputs": [],
   "source": [
    "import imagej\n"
   ]
  },
  {
   "cell_type": "code",
   "execution_count": 3,
   "metadata": {},
   "outputs": [
    {
     "name": "stdout",
     "output_type": "stream",
     "text": [
      "Added 380 JARs to the Java classpath.\n"
     ]
    },
    {
     "name": "stderr",
     "output_type": "stream",
     "text": [
      "WARNING 2018-11-30 10:35:44,286: JVM is already running, will not add endpoints to classpath -- required classes might not be on classpath..\n"
     ]
    }
   ],
   "source": [
    "ij = imagej.init(r'c:\\users\\mpinkert\\fiji.app')\n",
    "import jnius"
   ]
  },
  {
   "cell_type": "code",
   "execution_count": 10,
   "metadata": {},
   "outputs": [],
   "source": [
    "macro1 = \"\"\"newImage(\"Untitled\", \"8-bit ramp\", 512, 512, 1);\"\"\"\n",
    "\n",
    "macro2 = \"\"\"\n",
    "#@ int pattern\n",
    "#@ int replacement\n",
    "run(\"Replace value\", \"pattern=\" + pattern + \" replacement=\" + replacement);\n",
    "\"\"\"\n"
   ]
  },
  {
   "cell_type": "code",
   "execution_count": 34,
   "metadata": {},
   "outputs": [],
   "source": [
    "args = {'pattern': '[0]', 'replacement': 0}"
   ]
  },
  {
   "cell_type": "code",
   "execution_count": 35,
   "metadata": {},
   "outputs": [
    {
     "data": {
      "text/plain": [
       "<org.scijava.script.ScriptModule at 0x29cb022a258 jclass=org/scijava/script/ScriptModule jself=<LocalRef obj=0x-593147d0 at 0x29caefa7cf0>>"
      ]
     },
     "execution_count": 35,
     "metadata": {},
     "output_type": "execute_result"
    }
   ],
   "source": [
    "ij.py.run_macro(macro1)"
   ]
  },
  {
   "cell_type": "code",
   "execution_count": 36,
   "metadata": {},
   "outputs": [
    {
     "data": {
      "text/plain": [
       "<org.scijava.script.ScriptModule at 0x29cae9f1990 jclass=org/scijava/script/ScriptModule jself=<LocalRef obj=0x-59314840 at 0x29caef5beb0>>"
      ]
     },
     "execution_count": 36,
     "metadata": {},
     "output_type": "execute_result"
    }
   ],
   "source": [
    "ij.py.run_macro(macro2, args)"
   ]
  },
  {
   "cell_type": "code",
   "execution_count": 37,
   "metadata": {},
   "outputs": [
    {
     "data": {
      "text/plain": [
       "<ij.ImagePlus at 0x29cafed0570 jclass=ij/ImagePlus jself=<LocalRef obj=0x-59315288 at 0x29caef5bef0>>"
      ]
     },
     "execution_count": 37,
     "metadata": {},
     "output_type": "execute_result"
    }
   ],
   "source": [
    "WindowManager = jnius.autoclass('ij.WindowManager')\n",
    "activeImp = WindowManager.getCurrentImage()\n",
    "activeImp"
   ]
  },
  {
   "cell_type": "code",
   "execution_count": 38,
   "metadata": {},
   "outputs": [
    {
     "data": {
      "image/png": "[encoded data removed]",
      "text/plain": [
       "<Figure size 432x288 with 1 Axes>"
      ]
     },
     "metadata": {
      "needs_background": "light"
     },
     "output_type": "display_data"
    }
   ],
   "source": [
    "dataset = ij.py.to_dataset(activeImp)\n",
    "ij.py.show(dataset)"
   ]
  },
  {
   "cell_type": "code",
   "execution_count": null,
   "metadata": {},
   "outputs": [],
   "source": []
  }
 ],
 "metadata": {
  "kernelspec": {
   "display_name": "Python 3",
   "language": "python",
   "name": "python3"
  },
  "language_info": {
   "codemirror_mode": {
    "name": "ipython",
    "version": 3
   },
   "file_extension": ".py",
   "mimetype": "text/x-python",
   "name": "python",
   "nbconvert_exporter": "python",
   "pygments_lexer": "ipython3",
   "version": "3.6.6"
  }
 },
 "nbformat": 4,
 "nbformat_minor": 2
}
