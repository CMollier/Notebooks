{
 "cells": [
  {
   "cell_type": "markdown",
   "metadata": {},
   "source": [
    "This notebook is an in-progress development tool for adding xarray to PyImageJ, which allows us to specify image metadata like dimension order."
   ]
  },
  {
   "cell_type": "code",
   "execution_count": 1,
   "metadata": {},
   "outputs": [],
   "source": [
    "import imagej\n",
    "import numpy as np\n",
    "import xarray as xr\n",
    "from pathlib import Path\n",
    "import collections"
   ]
  },
  {
   "cell_type": "code",
   "execution_count": 2,
   "metadata": {},
   "outputs": [
    {
     "name": "stderr",
     "output_type": "stream",
     "text": [
      "WARNING 2019-12-18 14:49:46,428: JVM is already running, will not add endpoints to classpath -- required classes might not be on classpath..\n"
     ]
    }
   ],
   "source": [
    "ij_path = str(Path(Path.home(), 'Fiji.app'))\n",
    "ij = imagej.init(ij_path, headless=False)"
   ]
  },
  {
   "cell_type": "code",
   "execution_count": 3,
   "metadata": {},
   "outputs": [],
   "source": [
    "from jnius import autoclass\n",
    "from jnius import cast"
   ]
  },
  {
   "cell_type": "markdown",
   "metadata": {},
   "source": [
    "## py to java: Iterating over the xarray"
   ]
  },
  {
   "cell_type": "code",
   "execution_count": null,
   "metadata": {},
   "outputs": [],
   "source": [
    "arr = xr.DataArray(np.random.rand(512, 1024, 3), dims=['X', 'Y', 'C'], \n",
    "                   coords={'X': range(0, 512), 'Y': np.arange(0, 512, 0.5), 'C': ['R', 'G', 'B']})"
   ]
  },
  {
   "cell_type": "code",
   "execution_count": null,
   "metadata": {},
   "outputs": [],
   "source": [
    "isinstance(arr, collections.Iterable)"
   ]
  },
  {
   "cell_type": "markdown",
   "metadata": {},
   "source": [
    "xarray is an Iterable, where iterating over it iterates over the first array element.  True for 3D.  For 2d?"
   ]
  },
  {
   "cell_type": "code",
   "execution_count": null,
   "metadata": {},
   "outputs": [],
   "source": [
    "ij.py.to_java(arr[0, 0, 0])"
   ]
  },
  {
   "cell_type": "markdown",
   "metadata": {},
   "source": [
    "Problem: A 0d DataArray is an iterable but errors out when to_java tries to convert it because xarray doesn't allow iteration over 0d."
   ]
  },
  {
   "cell_type": "markdown",
   "metadata": {},
   "source": [
    "## xarray -> Dataset"
   ]
  },
  {
   "cell_type": "code",
   "execution_count": null,
   "metadata": {},
   "outputs": [],
   "source": [
    "def to_image(array: xr.DataArray):\n",
    "    # check the dimensions for the current order.  If no current order, assume XY(ZCT)\n",
    "    values = ij.py.to_java(arr.values)\n",
    "    \n",
    "    "
   ]
  },
  {
   "cell_type": "code",
   "execution_count": null,
   "metadata": {},
   "outputs": [],
   "source": [
    "testval = ij.py.to_java(arr.values)"
   ]
  },
  {
   "cell_type": "code",
   "execution_count": null,
   "metadata": {},
   "outputs": [],
   "source": [
    "type(testval)"
   ]
  },
  {
   "cell_type": "code",
   "execution_count": null,
   "metadata": {},
   "outputs": [],
   "source": [
    "ij.ui().show(\"Here\", testval)"
   ]
  },
  {
   "cell_type": "code",
   "execution_count": null,
   "metadata": {},
   "outputs": [],
   "source": [
    "isinstance(arr, xr.DataArray)"
   ]
  },
  {
   "cell_type": "markdown",
   "metadata": {},
   "source": [
    "Bubble X to the top and Y to the second"
   ]
  },
  {
   "cell_type": "code",
   "execution_count": null,
   "metadata": {},
   "outputs": [],
   "source": []
  },
  {
   "cell_type": "code",
   "execution_count": null,
   "metadata": {},
   "outputs": [],
   "source": []
  },
  {
   "cell_type": "code",
   "execution_count": null,
   "metadata": {},
   "outputs": [],
   "source": [
    "dataset = ij.dataset().create(testval)"
   ]
  },
  {
   "cell_type": "code",
   "execution_count": null,
   "metadata": {},
   "outputs": [],
   "source": [
    "xax = DefaultLinearAxis(Axes.X, 'um', 1, 0)\n",
    "yax = DefaultLinearAxis(Axes.Y, 'um', 0.5, 0)\n",
    "cax = DefaultLinearAxis(Axes.CHANNEL)"
   ]
  },
  {
   "cell_type": "code",
   "execution_count": null,
   "metadata": {},
   "outputs": [],
   "source": [
    "dataset.setAxes([cax, yax, xax])"
   ]
  },
  {
   "cell_type": "code",
   "execution_count": null,
   "metadata": {},
   "outputs": [],
   "source": [
    "def jstacktrace(exc):\n",
    "    if not hasattr(exc, 'classname') or exc.classname is None:\n",
    "        return str(exc)\n",
    "    return '' if not exc.stacktrace else '\\n\\tat '.join(exc.stacktrace)"
   ]
  },
  {
   "cell_type": "code",
   "execution_count": null,
   "metadata": {
    "scrolled": true
   },
   "outputs": [],
   "source": [
    "try:\n",
    "    ij.ui().show(dataset)\n",
    "except Exception as e:\n",
    "    print(jstacktrace(e))"
   ]
  },
  {
   "cell_type": "code",
   "execution_count": null,
   "metadata": {},
   "outputs": [],
   "source": [
    "dataset.setAxis(yax, 1)\n",
    "dataset.setAxis(xax, 2)"
   ]
  },
  {
   "cell_type": "code",
   "execution_count": null,
   "metadata": {},
   "outputs": [],
   "source": [
    "cax = DefaultTypedAxis(Axes.CHANNEL)"
   ]
  },
  {
   "cell_type": "code",
   "execution_count": null,
   "metadata": {
    "scrolled": false
   },
   "outputs": [],
   "source": [
    "dataset.setAxis(cax, 0)"
   ]
  },
  {
   "cell_type": "code",
   "execution_count": null,
   "metadata": {},
   "outputs": [],
   "source": [
    "cax = AbstractCalibratedAxis(Axes.CHANNEL)"
   ]
  },
  {
   "cell_type": "code",
   "execution_count": null,
   "metadata": {},
   "outputs": [],
   "source": [
    "cax = DefaultLinearAxis(Axes.CHANNEL)\n",
    "dataset.setAxis(cax, 0)"
   ]
  },
  {
   "cell_type": "code",
   "execution_count": null,
   "metadata": {},
   "outputs": [],
   "source": []
  },
  {
   "cell_type": "code",
   "execution_count": null,
   "metadata": {},
   "outputs": [],
   "source": [
    "xtype = xax.type()"
   ]
  },
  {
   "cell_type": "code",
   "execution_count": null,
   "metadata": {},
   "outputs": [],
   "source": [
    "xax.type().getLabel()"
   ]
  },
  {
   "cell_type": "code",
   "execution_count": null,
   "metadata": {},
   "outputs": [],
   "source": []
  },
  {
   "cell_type": "code",
   "execution_count": null,
   "metadata": {},
   "outputs": [],
   "source": []
  },
  {
   "cell_type": "code",
   "execution_count": null,
   "metadata": {},
   "outputs": [],
   "source": [
    "Axes = autoclass('net.imagej.axis.Axes')\n",
    "DefaultLinearAxis = autoclass('net.imagej.axis.DefaultLinearAxis')\n",
    "DefaultTypedAxis = autoclass('net.imagej.axis.DefaultTypedAxis')\n",
    "AbstractCalibratedAxis = autoclass('net.imagej.axis.AbstractCalibratedAxis')\n",
    "ColorTables = ('net.imagej.display.ColorTables')"
   ]
  },
  {
   "cell_type": "code",
   "execution_count": null,
   "metadata": {},
   "outputs": [],
   "source": []
  },
  {
   "cell_type": "markdown",
   "metadata": {},
   "source": [
    "Need code in Java to permute X and Y to the top."
   ]
  },
  {
   "cell_type": "markdown",
   "metadata": {},
   "source": [
    "Flat iterable in ImgLib will loop in F order."
   ]
  },
  {
   "cell_type": "code",
   "execution_count": 19,
   "metadata": {},
   "outputs": [],
   "source": [
    "arr5d = xr.DataArray(np.random.rand(5, 4, 3, 256, 512), dims=['T', 'Z', 'C', 'Y', 'X'], \n",
    "                     coords={'X': range(0, 512), 'Y': np.arange(0, 512, 2), 'C': ['R', 'G', 'B'], \n",
    "                             'Z': np.arange(10, 50, 10), 'T': np.arange(0, 0.05, 0.01)},\n",
    "                     attrs={'Hello': 'Wrld'})"
   ]
  },
  {
   "cell_type": "code",
   "execution_count": 5,
   "metadata": {},
   "outputs": [],
   "source": [
    "rai5d = ij.py.to_java(arr5d.values)"
   ]
  },
  {
   "cell_type": "code",
   "execution_count": 6,
   "metadata": {},
   "outputs": [],
   "source": [
    "dataset5d = ij.dataset().create(rai5d)"
   ]
  },
  {
   "cell_type": "code",
   "execution_count": 11,
   "metadata": {},
   "outputs": [],
   "source": [
    "units = ['um', 'um', 'Channel', 'um', 'ms']\n",
    "origin = [0, 0, 1, 10, 0]\n",
    "scale = [1, 2, 1, 10, 0.01]"
   ]
  },
  {
   "cell_type": "code",
   "execution_count": 8,
   "metadata": {},
   "outputs": [],
   "source": [
    "laxis = cast('net.imagej.axis.DefaultLinearAxis', dataset5d.axis(0))\n",
    "laxis.setUnit('um')"
   ]
  },
  {
   "cell_type": "code",
   "execution_count": 12,
   "metadata": {},
   "outputs": [],
   "source": [
    "for idx in range(5):\n",
    "    cast('net.imagej.axis.DefaultLinearAxis', dataset5d.axis(idx)).setUnit(units[idx])\n",
    "    cast('net.imagej.axis.DefaultLinearAxis', dataset5d.axis(idx)).setOrigin(origin[idx])\n",
    "    cast('net.imagej.axis.DefaultLinearAxis', dataset5d.axis(idx)).setScale(scale[idx])"
   ]
  },
  {
   "cell_type": "code",
   "execution_count": 13,
   "metadata": {},
   "outputs": [],
   "source": [
    "ij.ui().show(dataset5d)"
   ]
  },
  {
   "cell_type": "code",
   "execution_count": null,
   "metadata": {},
   "outputs": [],
   "source": [
    "dataset5d.initializeColorTables(3)"
   ]
  },
  {
   "cell_type": "code",
   "execution_count": null,
   "metadata": {},
   "outputs": [],
   "source": [
    "dataset5d.setColorTable(ColorTables.GREEN, 0)\n",
    "dataset5d.setColorTable(ColorTables.BLUE, 1)\n",
    "dataset5d.setColorTable(ColorTables.MAGENTA, 2)"
   ]
  },
  {
   "cell_type": "code",
   "execution_count": null,
   "metadata": {},
   "outputs": [],
   "source": [
    "dataset5d.setCompositeChannelCount(1)"
   ]
  },
  {
   "cell_type": "markdown",
   "metadata": {},
   "source": [
    "Axis types are not considered equivalent due to pyjnius conversions"
   ]
  },
  {
   "cell_type": "code",
   "execution_count": null,
   "metadata": {},
   "outputs": [],
   "source": [
    "props = dataset5d.get"
   ]
  },
  {
   "cell_type": "code",
   "execution_count": 21,
   "metadata": {},
   "outputs": [],
   "source": [
    "dataset5d.getProperties().putAll(ij.py.to_java(arr5d.attrs))"
   ]
  },
  {
   "cell_type": "code",
   "execution_count": 22,
   "metadata": {},
   "outputs": [
    {
     "name": "stdout",
     "output_type": "stream",
     "text": [
      "{'Hello': 'Wrld'}\n"
     ]
    }
   ],
   "source": [
    "print(ij.py.from_java(dataset5d.getProperties()))"
   ]
  },
  {
   "cell_type": "code",
   "execution_count": null,
   "metadata": {},
   "outputs": [],
   "source": []
  },
  {
   "cell_type": "markdown",
   "metadata": {},
   "source": [
    "## Dataset ->  xarray"
   ]
  },
  {
   "cell_type": "code",
   "execution_count": null,
   "metadata": {
    "scrolled": true
   },
   "outputs": [],
   "source": [
    "big_data = ij.scifio().datasetIO().open('lotsofplanes&lengths=512,510,16,10,100&axes=X,Y,Channel,Z,Time.fake')"
   ]
  },
  {
   "cell_type": "markdown",
   "metadata": {},
   "source": [
    "Thinking.  DefaultLinearAxis for linear images, DefaultTypedAxis for nonlinear spacing of images?  Images with no origin or dims/random numpy images?"
   ]
  },
  {
   "cell_type": "code",
   "execution_count": null,
   "metadata": {},
   "outputs": [],
   "source": []
  },
  {
   "cell_type": "code",
   "execution_count": null,
   "metadata": {},
   "outputs": [],
   "source": [
    "bax1 = cast('net.imagej.axis.DefaultLinearAxis', big_data.axis(2))"
   ]
  },
  {
   "cell_type": "code",
   "execution_count": null,
   "metadata": {},
   "outputs": [],
   "source": [
    "bax1.origin()"
   ]
  },
  {
   "cell_type": "code",
   "execution_count": null,
   "metadata": {
    "scrolled": true
   },
   "outputs": [],
   "source": [
    "te = xr.DataArray([5, 5])"
   ]
  },
  {
   "cell_type": "markdown",
   "metadata": {},
   "source": [
    "# Questions\n",
    "\n",
    "Is this RGRAI an iterable?"
   ]
  },
  {
   "cell_type": "markdown",
   "metadata": {},
   "source": [
    "In addition to the scyjava types, we also allow ndarraylike and xarraylike"
   ]
  },
  {
   "cell_type": "code",
   "execution_count": null,
   "metadata": {},
   "outputs": [],
   "source": []
  },
  {
   "cell_type": "markdown",
   "metadata": {},
   "source": [
    "We could implement a DateTimeAxis and a ExplicitAxis(/StepwiseAxis) in ImgLib2"
   ]
  },
  {
   "cell_type": "code",
   "execution_count": null,
   "metadata": {},
   "outputs": [],
   "source": []
  },
  {
   "cell_type": "code",
   "execution_count": null,
   "metadata": {},
   "outputs": [],
   "source": []
  },
  {
   "attachments": {
    "image.png": {
     "image/png": "[encoded data removed]"
    }
   },
   "cell_type": "markdown",
   "metadata": {},
   "source": [
    "• xarray is an implementation of netCDF data format.  Do we want to support conversion to netCDF, or do we want to specify that PyImageJ will always consider xarrays images?  If the latter, we need to add a check for xarray before checking for Iterables.\n",
    "\n",
    "• How do you set a channel as a calibrated axis?  \n",
    "\n",
    "• Can you create a dataset with a RAI, but specify the channels?\n",
    "\n",
    "• What about custom labels for axis?\n",
    "\n",
    "• Implementing xarray\n",
    "\t○ To_java\n",
    "\t\t§ Do we want to assume that DataArrays are images, or do we generically convert them?  \n",
    "\t○ Conventions\n",
    "\t\t§ Metadata strings: X, Y, Z, Channel, Time to accord with Hyperstacks?   Do we add more possible channels than this to generalize?  Is that doable?\n",
    "\t\t\t§ Coords: We can provide an \"origin\" to \"coords\" conversion, perhaps.  Coords are 1d descriptions of each point, as opposed to the single value origin.\n",
    "\t\t○ Do we want to allow regular numpy arrays, or require xarrays as inputs?\n",
    "\t\t\t§ If allow:\n",
    "\t\t\t\t□ Does rai_to_numpy stay that way, or do we add a case for datasets with specified dimensions to convert to xarrays.\n",
    "\t• Supporting colormap conversion..?\n",
    "\t\t○ R, G, B, Y, M, C, K \n",
    "\t• Flipping\n",
    "\t\t○ Do we do this automatically in the check for Iterables?  Flip the axes?  Or do we only do it for some data types, e.g. numpy arrays?\n",
    "\t• What is the proper type for converting to an ImageJ \"image\"?  A dataset?  How do we go from randomaccessibleinterval to an image?\n",
    "![image.png](attachment:image.png)"
   ]
  }
 ],
 "metadata": {
  "kernelspec": {
   "display_name": "Python 3",
   "language": "python",
   "name": "python3"
  },
  "language_info": {
   "codemirror_mode": {
    "name": "ipython",
    "version": 3
   },
   "file_extension": ".py",
   "mimetype": "text/x-python",
   "name": "python",
   "nbconvert_exporter": "python",
   "pygments_lexer": "ipython3",
   "version": "3.6.9"
  }
 },
 "nbformat": 4,
 "nbformat_minor": 2
}
