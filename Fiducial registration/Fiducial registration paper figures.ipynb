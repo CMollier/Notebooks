{
 "cells": [
  {
   "cell_type": "code",
   "execution_count": null,
   "metadata": {},
   "outputs": [],
   "source": [
    "from pathlib import Path\n",
    "import numpy as np\n",
    "import SimpleITK as sitk\n",
    "%matplotlib notebook\n",
    "import multiscale.ultrasound.reconstruction as recon\n",
    "\n",
    "import multiscale.itk.itk_plotting as iplt\n",
    "import multiscale.itk.registration as reg\n",
    "import multiscale.itk.process as proc\n",
    "import multiscale.utility_functions as util\n",
    "\n",
    "import matplotlib.pyplot as plt\n",
    "import math\n",
    "import pandas as pd\n",
    "import tiffile as tif\n",
    "import pickle\n",
    "import os"
   ]
  },
  {
   "cell_type": "code",
   "execution_count": null,
   "metadata": {},
   "outputs": [],
   "source": [
    "def open_us(us_path, dynamic_range, spacing, origin):\n",
    "    \"\"\"Open the US image, window it to a dynamic range, and rotate it to microscope coordinate axes\"\"\"\n",
    "    raw_image = sitk.ReadImage(str(us_path))\n",
    "    windowed_image = proc.window_image(raw_image, dynamic_range)\n",
    "    us_image = rotate_axes_to_microscope(windowed_image)\n",
    "    us_image.SetSpacing(spacing)\n",
    "    us_image.SetOrigin(origin)\n",
    "    us_image.SetDirection([1, 0, 0, 0, 1, 0, 0, 0, -1])\n",
    "    return us_image\n",
    "\n",
    "def open_mpm(mpm_path, mpm_origin_path, mpm_spacing):\n",
    "    \"\"\"Open the MPM image and set the direction to -1 in Z to mirror microscope convention\"\"\"\n",
    "    positions = positions_from_ometif(mpm_origin_path)\n",
    "    origin = np.min(positions, 0)\n",
    "    mpm_image = sitk.ReadImage(str(mpm_path))\n",
    "    mpm_image.SetSpacing(mpm_spacing)\n",
    "    mpm_image.SetOrigin(origin)\n",
    "    mpm_image.SetDirection([1, 0, 0, 0, 1, 0, 0, 0, -1])\n",
    "    return mpm_image\n",
    "\n",
    "def rotate_axes_to_microscope(image):\n",
    "    \"\"\"Rotate the US axes to be along the microscope axes\"\"\"\n",
    "    arr = sitk.GetArrayFromImage(image)\n",
    "    arr_rot = np.swapaxes(arr, 0, 1)\n",
    "    arr_rot = np.flip(arr_rot, 0).astype(np.uint8)\n",
    "    return sitk.GetImageFromArray(arr_rot)\n",
    "\n",
    "def positions_from_ometif(file_path):\n",
    "    \"\"\"Read a .ome.tif file and grab the image positions as a numpy array\"\"\"\n",
    "    reader = sitk.ImageFileReader()\n",
    "    reader.SetFileName(str(file_path))\n",
    "    reader.ReadImageInformation()\n",
    "    raw_info = reader.GetMetaData('ImageDescription')\n",
    "    info = tif.xml2dict(raw_info)\n",
    "    mpm_list = []\n",
    "    for position in info['OME']['Image']:\n",
    "        x = position['StageLabel']['X']\n",
    "        y = position['StageLabel']['Y']\n",
    "        z = -1*position['Pixels']['Plane'][0]['PositionZ']\n",
    "        mpm_list.append(np.array([x, y, z]))\n",
    "    return np.array(mpm_list)\n",
    "\n",
    "def get_xy_origin(pl_path):\n",
    "    \"\"\"Read an ultrasound position list and get the XY origin\"\"\"\n",
    "    raw_pos_list = util.read_json(us_pl_path)\n",
    "    pos_list = recon.clean_position_text(raw_pos_list)[0]\n",
    "    xy_origin = np.min(pos_list, 0)\n",
    "    return xy_origin"
   ]
  },
  {
   "cell_type": "markdown",
   "metadata": {},
   "source": [
    "# Rotation"
   ]
  },
  {
   "cell_type": "code",
   "execution_count": null,
   "metadata": {},
   "outputs": [],
   "source": [
    "# All US images are on the same positions list for X and Y.  Each has a slightly different Z height based on the indicator gauge\n",
    "us_pl_path = Path(r'C:\\Users\\mpinkert\\Box\\Research\\LINK\\Phantom Trials\\2019-05-04\\2019-05-04_US - 3X 100YSep.pos')\n",
    "us_xy_origin = get_xy_origin(us_pl_path)\n",
    "\n",
    "# These Z heights are recorded from the gauge and are in microns.\n",
    "us_heights = [0, -6, -6, -7, -6]\n",
    "us_origins = [np.array([us_xy_origin[0], us_xy_origin[1], us_heights[idx]]) for idx in range(5)]"
   ]
  },
  {
   "cell_type": "code",
   "execution_count": null,
   "metadata": {},
   "outputs": [],
   "source": [
    "# The MPM positions \n",
    "metadata_dir = Path(r'F:\\Research\\LINK\\Phantom Trials\\Fiducial paper analysis\\Metadata images')\n",
    "mpm_origins = [Path(metadata_dir, 'Fiducial acq ' + str(idx+1) + '.ome.tif') for idx in range(5)]"
   ]
  },
  {
   "cell_type": "code",
   "execution_count": null,
   "metadata": {},
   "outputs": [],
   "source": [
    "us_spacing = [25, 25, 25]\n",
    "\n",
    "#In this case, we are using MPM images downsampled by 8x in XY\n",
    "mpm_spacing = [8.16, 8.16, 25]\n",
    "\n",
    "dynamic_range = 50"
   ]
  },
  {
   "cell_type": "code",
   "execution_count": null,
   "metadata": {},
   "outputs": [],
   "source": [
    "# Specify where the images are.\n",
    "mpm_dir = Path(r'F:\\Research\\LINK\\Phantom Trials\\Fiducial paper analysis\\MPM Images\\MPM downsampled')\n",
    "mpm_paths = [Path(mpm_dir, 'MPM acq {}_8x.tif'.format(str(idx))) for idx in range(1, 6)]\n",
    "\n",
    "us_dir = Path(r'F:\\Research\\LINK\\Phantom Trials\\Fiducial paper analysis\\Ultrasound')\n",
    "us_paths = [Path(us_dir, 'US Rotation {}.tif'.format(str(idx))) for idx in range(1, 6)]"
   ]
  },
  {
   "cell_type": "code",
   "execution_count": null,
   "metadata": {},
   "outputs": [],
   "source": [
    "mpm_images = [open_mpm(mpm_paths[idx], mpm_origins[idx], mpm_spacing) for idx in range(5)]"
   ]
  },
  {
   "cell_type": "code",
   "execution_count": null,
   "metadata": {},
   "outputs": [],
   "source": [
    "us_images = [open_us(us_paths[idx], dynamic_range, us_spacing, us_origins[idx]) for idx in range(5)]"
   ]
  },
  {
   "cell_type": "code",
   "execution_count": null,
   "metadata": {},
   "outputs": [],
   "source": [
    "# Acquire points manually for the XY registrations.\n",
    "points = []"
   ]
  },
  {
   "cell_type": "code",
   "execution_count": null,
   "metadata": {
    "scrolled": false
   },
   "outputs": [],
   "source": [
    "points.append(iplt.RegistrationPointDataAcquisition(mpm_images[0], us_images[0]))"
   ]
  },
  {
   "cell_type": "code",
   "execution_count": null,
   "metadata": {
    "scrolled": true
   },
   "outputs": [],
   "source": [
    "points.append(iplt.RegistrationPointDataAcquisition(mpm_images[1], us_images[1]))"
   ]
  },
  {
   "cell_type": "code",
   "execution_count": null,
   "metadata": {
    "scrolled": true
   },
   "outputs": [],
   "source": [
    "points.append(iplt.RegistrationPointDataAcquisition(mpm_images[2], us_images[2]))"
   ]
  },
  {
   "cell_type": "code",
   "execution_count": null,
   "metadata": {
    "scrolled": true
   },
   "outputs": [],
   "source": [
    "points.append(iplt.RegistrationPointDataAcquisition(mpm_images[3], us_images[3]))"
   ]
  },
  {
   "cell_type": "code",
   "execution_count": null,
   "metadata": {
    "scrolled": false
   },
   "outputs": [],
   "source": [
    "points.append(iplt.RegistrationPointDataAcquisition(mpm_images[4], us_images[4]))"
   ]
  },
  {
   "cell_type": "code",
   "execution_count": null,
   "metadata": {
    "scrolled": false
   },
   "outputs": [],
   "source": [
    "fixed_points = []\n",
    "moving_points = []\n",
    "for idx in range(5):\n",
    "    fixed, moving = points[idx].get_points_flat()\n",
    "    fixed_points.append(fixed)\n",
    "    moving_points.append(moving)"
   ]
  },
  {
   "cell_type": "code",
   "execution_count": null,
   "metadata": {},
   "outputs": [],
   "source": [
    "fiducial_dir = Path(r'F:\\Research\\LINK\\Phantom Trials\\Fiducial paper analysis')\n",
    "fixed_points_path = Path(fiducial_dir, 'Rotation init points - fixed.txt')\n",
    "moving_points_path = Path(fiducial_dir, 'Rotation init points - moving.txt')"
   ]
  },
  {
   "cell_type": "code",
   "execution_count": null,
   "metadata": {},
   "outputs": [],
   "source": [
    "len(fixed_points[0])"
   ]
  },
  {
   "cell_type": "code",
   "execution_count": null,
   "metadata": {},
   "outputs": [],
   "source": [
    "# Points previously acquired\n",
    "if len(fixed_points[0]) == 0:\n",
    "    with open(fixed_points_path, 'rb') as fp:\n",
    "        fixed_points = pickle.load(fp)   \n",
    "    with open(moving_points_path, 'rb') as fp:\n",
    "        moving_points = pickle.load(fp)\n",
    "else:\n",
    "    with open(fixed_points_path, 'wb') as fp:\n",
    "        pickle.dump(fixed_points, fp)\n",
    "    with open(moving_points_path, 'wb') as fp:\n",
    "        pickle.dump(moving_points, fp)"
   ]
  },
  {
   "cell_type": "code",
   "execution_count": null,
   "metadata": {},
   "outputs": [],
   "source": [
    "final_params = []\n",
    "metrics = []\n",
    "stops = []"
   ]
  },
  {
   "cell_type": "code",
   "execution_count": null,
   "metadata": {},
   "outputs": [],
   "source": [
    "for idx in range(5):\n",
    "    initial_transform = sitk.LandmarkBasedTransformInitializer(sitk.VersorRigid3DTransform(), fixed_points[idx], moving_points[idx])\n",
    "    final_transform, metric, stop = reg.register(mpm_images[idx], us_images[idx], initial_transform=initial_transform)\n",
    "    final_params.append(final_transform.GetParameters())\n",
    "    metrics.append(metric)\n",
    "    stops.append(stop)\n",
    "    print('Finished registration {}'.format(idx+1))"
   ]
  },
  {
   "cell_type": "code",
   "execution_count": null,
   "metadata": {},
   "outputs": [],
   "source": [
    "rotation_params_path = Path(fiducial_dir, 'Rotation final parameters.txt')\n",
    "\n",
    "if len(final_params) == 0:\n",
    "    with open(rotation_params_path, 'rb') as fp:\n",
    "        final_params = pickle.load(fp)\n",
    "else:\n",
    "    with open(rotation_params_path, 'wb') as fp:\n",
    "        pickle.dump(final_params, fp)"
   ]
  },
  {
   "cell_type": "code",
   "execution_count": null,
   "metadata": {
    "scrolled": true
   },
   "outputs": [],
   "source": [
    "transform_mean = np.mean(np.array(final_params), 0)\n",
    "transform_std = np.std(np.array(final_params), 0)\n",
    "print(transform_mean)\n",
    "print(transform_std)"
   ]
  },
  {
   "cell_type": "code",
   "execution_count": null,
   "metadata": {},
   "outputs": [],
   "source": [
    "registered_images = []\n",
    "for idx in range(5):\n",
    "    transform = sitk.VersorRigid3DTransform()\n",
    "    transform.SetParameters(final_params[idx])\n",
    "    registered_images.append(sitk.Resample(us_images[idx], mpm_images[idx], transform, sitk.sitkLinear, 0.0, mpm_images[idx].GetPixelID()))"
   ]
  },
  {
   "cell_type": "code",
   "execution_count": null,
   "metadata": {},
   "outputs": [],
   "source": [
    "registered_dir = Path(r'F:\\Research\\LINK\\Phantom Trials\\Fiducial paper analysis\\Ultrasound\\Registered')\n"
   ]
  },
  {
   "cell_type": "code",
   "execution_count": null,
   "metadata": {},
   "outputs": [],
   "source": [
    "for idx in range(5):\n",
    "    reg_path = Path(registered_dir, 'US Rot Reg {}.tif'.format(idx+1))\n",
    "    sitk.WriteImage(registered_images[idx], str(reg_path))"
   ]
  },
  {
   "cell_type": "code",
   "execution_count": null,
   "metadata": {
    "scrolled": true
   },
   "outputs": [],
   "source": [
    "fig, ax = plt.subplots(3, 2)\n",
    "for idx in range(5):\n",
    "    if idx == 0:\n",
    "        slice = 4\n",
    "    else:\n",
    "        slice = 1\n",
    "    overlay = iplt.overlay_images(registered_images[idx], mpm_images[idx],  slice=slice)\n",
    "    ax[int(idx % 3), int(np.floor(idx/3))].imshow(overlay)\n",
    "    ax[int(idx % 3), int(np.floor(idx/3))].axis('off')\n",
    "ax[2, 1].axis('off')"
   ]
  },
  {
   "cell_type": "markdown",
   "metadata": {},
   "source": [
    "# Height determination"
   ]
  },
  {
   "cell_type": "code",
   "execution_count": null,
   "metadata": {},
   "outputs": [],
   "source": [
    "def connected_components(us_image):\n",
    "    \"\"\"Process the US image using Otsu thresholding and binary opening/closing to get the connected components\"\"\"\n",
    "    thresh_filter = sitk.OtsuThresholdImageFilter()\n",
    "    thresh_filter.SetInsideValue(0)\n",
    "    thresh_filter.SetOutsideValue(1)\n",
    "    thresh_img = thresh_filter.Execute(us_image)\n",
    "    thresh_value = thresh_filter.GetThreshold()\n",
    "\n",
    "    print(\"Threshold used: \" + str(thresh_value))\n",
    "\n",
    "    cleaned_thresh_img = sitk.BinaryOpeningByReconstruction(thresh_img, [4, 4, 2])\n",
    "    cleaned_thresh_img = sitk.BinaryClosingByReconstruction(cleaned_thresh_img, [4, 4, 2])\n",
    "\n",
    "    connected_img = sitk.ConnectedComponent(cleaned_thresh_img)\n",
    "    return connected_img\n",
    "\n",
    "def get_fiducial_stats(connected_img):\n",
    "    \"\"\"Get statistics for each object in a label image\"\"\"\n",
    "    stats = sitk.LabelShapeStatisticsImageFilter()\n",
    "    stats.ComputeOrientedBoundingBoxOn()\n",
    "    stats.ComputePerimeterOn()\n",
    "    stats.Execute(connected_img)    \n",
    "    return stats\n",
    "\n",
    "def filter_labels(stats):\n",
    "    \"\"\"Filter labels by property so you only get the fiducial circles\"\"\"\n",
    "    return [l for l in stats.GetLabels() if (stats.GetNumberOfPixels(l) < 200000 \n",
    "                                             and stats.GetEquivalentEllipsoidDiameter(l)[1] > 2000)]\n",
    "\n",
    "def get_leveled_centroid(stats, true_labels):\n",
    "    \"\"\"Get the leveled Z height, equivalent to the bottom of fiducial, for each label\"\"\"\n",
    "    centroid = [stats.GetCentroid(l) for l in true_labels]\n",
    "    level_center = []\n",
    "    idx = 0\n",
    "    for center in centroid:\n",
    "        level_center.append(center[2] + np.floor((idx+3)/3)*1000)\n",
    "        idx = idx+1\n",
    "    return np.array(level_center)\n",
    "\n",
    "def get_ellipsoid_radius(stats, true_labels):\n",
    "    rad = [0.5*stats.GetEquivalentEllipsoidDiameter(l)[0] for l in true_labels]\n",
    "    return rad\n",
    "\n",
    "def get_leveled_top(stats, true_labels):\n",
    "    \"\"\"Get the indexes of the top of the bounding box, leveled to be equivalent to the bottom of the fiducial\"\"\"\n",
    "    boxes = [stats.GetBoundingBox(l) for l in true_labels]\n",
    "    top = []\n",
    "    for box in boxes:\n",
    "        top.append(box[2] + box[5])\n",
    "    level_top = []\n",
    "    for idx in range(len(top)):\n",
    "        level_top.append(top[idx] - np.floor((idx+3)/3)*40)\n",
    "\n",
    "    return np.array(level_top)\n",
    "\n",
    "def get_leveled_bottom(stats, true_labels):\n",
    "    \"\"\"Get the indexes of the bottom of the bounding box, leveled to be equivalent to the bottom of the fiducial\"\"\"\n",
    "    boxes = [stats.GetBoundingBox(l) for l in true_labels]\n",
    "    bottom = []\n",
    "    for box in boxes:\n",
    "        bottom.append(box[2])\n",
    "    level_bottom = []\n",
    "    for idx in range(len(bottom)):\n",
    "        level_bottom.append(bottom[idx] - np.floor((idx+3)/3)*40)\n",
    "\n",
    "    return np.array(level_bottom)\n",
    "\n",
    "def apply_transform(us_image, mpm_image, transform_params):\n",
    "    transform = sitk.VersorRigid3DTransform()\n",
    "    transform.SetParameters(transform_params)\n",
    "    reg = sitk.Resample(us_image, mpm_image, transform, sitk.sitkLinear, 0.0, mpm_image.GetPixelID())\n",
    "    return reg"
   ]
  },
  {
   "cell_type": "code",
   "execution_count": null,
   "metadata": {},
   "outputs": [],
   "source": [
    "rot_conn = None"
   ]
  },
  {
   "cell_type": "code",
   "execution_count": null,
   "metadata": {
    "scrolled": false
   },
   "outputs": [],
   "source": [
    "rot_conn = [connected_components(image[:, :, 40:165]) for image in us_images]"
   ]
  },
  {
   "cell_type": "code",
   "execution_count": null,
   "metadata": {
    "scrolled": true
   },
   "outputs": [],
   "source": [
    "# Open/Save the images if we are skipping re-calculating them\n",
    "if rot_conn is None:\n",
    "    rot_conn = []\n",
    "    read = True\n",
    "else:\n",
    "    read=False\n",
    "    \n",
    "segment_dir = Path(r'F:\\Research\\LINK\\Phantom Trials\\Fiducial paper analysis\\Segmented')\n",
    "\n",
    "for idx in range(len(rot_conn)):\n",
    "    conn_path = Path(segment_dir, 'Rot Segment {}.tif'.format(idx+1))\n",
    "    if read:\n",
    "        rot_conn.append(sitk.Cast(sitk.ReadImage(str(conn_path)), sitk.sitkUInt32))\n",
    "    else:\n",
    "        sitk.WriteImage(sitk.Cast(rot_conn[idx], sitk.sitkUInt8), str(conn_path))"
   ]
  },
  {
   "cell_type": "code",
   "execution_count": null,
   "metadata": {},
   "outputs": [],
   "source": [
    "rot_stats = [get_fiducial_stats(image) for image in rot_conn]\n",
    "rot_labels = [filter_labels(stat) for stat in rot_stats]\n",
    "rot_centroids = np.array([get_leveled_centroid(rot_stats[idx], rot_labels[idx]) for idx in range(len(rot_stats))])\n",
    "rot_rad = np.array([get_ellipsoid_radius(rot_stats[idx], rot_labels[idx]) for idx in range(len(rot_stats))])"
   ]
  },
  {
   "cell_type": "code",
   "execution_count": null,
   "metadata": {},
   "outputs": [],
   "source": [
    "fiducial_bottom = np.mean(rot_centroids) + np.mean(rot_rad)\n",
    "bottom_std = np.std(rot_centroids)\n",
    "print(fiducial_bottom)\n",
    "print(bottom_std)"
   ]
  },
  {
   "cell_type": "code",
   "execution_count": null,
   "metadata": {},
   "outputs": [],
   "source": [
    "# One note to be cautious on: Right now, increasing negative is further into the sample in stage terms,\n",
    "# but is below sample in ITK terms"
   ]
  },
  {
   "cell_type": "code",
   "execution_count": null,
   "metadata": {},
   "outputs": [],
   "source": [
    "height_transforms = [transform_mean.copy() for idx in range(4)]"
   ]
  },
  {
   "cell_type": "code",
   "execution_count": null,
   "metadata": {},
   "outputs": [],
   "source": [
    "for idx in range(4):\n",
    "    height_transforms[idx][5] = -1*(mpm_images[0].GetOrigin()[2] - fiducial_bottom + 1000*idx)"
   ]
  },
  {
   "cell_type": "code",
   "execution_count": null,
   "metadata": {},
   "outputs": [],
   "source": [
    "height_reg = [apply_transform(us_images[4], mpm_images[4], height_transforms[idx]) for idx in range(4)]"
   ]
  },
  {
   "cell_type": "code",
   "execution_count": null,
   "metadata": {},
   "outputs": [],
   "source": [
    "mpm_reg = [apply_transform(mpm_images[4], us_images[4], -1*height_transforms[idx]) for idx in range(4)]"
   ]
  },
  {
   "cell_type": "code",
   "execution_count": null,
   "metadata": {},
   "outputs": [],
   "source": [
    "for idx in range(4):\n",
    "    reg_path = Path(registered_dir, 'MPM Height Reg {}mm.tif'.format(idx))\n",
    "    sitk.WriteImage(mpm_reg[idx], str(reg_path))"
   ]
  },
  {
   "cell_type": "code",
   "execution_count": null,
   "metadata": {},
   "outputs": [],
   "source": [
    "mpm_all_reg = mpm_reg[0] + mpm_reg[1] + mpm_reg[2] + mpm_reg[3]\n"
   ]
  },
  {
   "cell_type": "code",
   "execution_count": null,
   "metadata": {},
   "outputs": [],
   "source": [
    "overlay_array2 = iplt.overlay_images(mpm_all_reg, us_images[4])\n",
    "overlay_img2 = sitk.GetImageFromArray(overlay_array)\n",
    "overlay_img2.CopyInformation(us_images[4])\n",
    "iplt.MultiImageDisplay([overlay_img2])"
   ]
  },
  {
   "cell_type": "code",
   "execution_count": null,
   "metadata": {},
   "outputs": [],
   "source": [
    "reg_path = Path(registered_dir, 'MPM all reg.tif')\n",
    "sitk.WriteImage(mpm_all_reg, str(reg_path))"
   ]
  },
  {
   "cell_type": "code",
   "execution_count": null,
   "metadata": {},
   "outputs": [],
   "source": [
    "center_transforms = [transform_mean.copy() for idx in range(4)]\n",
    "for idx in range(4):\n",
    "    center_transforms[idx][5] = -1*(mpm_images[0].GetOrigin()[2] - fiducial_bottom - np.mean(rot_rad) + 1000*idx)"
   ]
  },
  {
   "cell_type": "code",
   "execution_count": null,
   "metadata": {},
   "outputs": [],
   "source": [
    "center_reg = [apply_transform(us_images[4], mpm_images[4], center_transforms[idx]) for idx in range(4)]"
   ]
  },
  {
   "cell_type": "code",
   "execution_count": null,
   "metadata": {},
   "outputs": [],
   "source": [
    "center_img = center_reg[0] + center_reg[1] + center_reg[2] + height_reg[3]\n",
    "reg_path = Path(registered_dir, 'US Fiducial center on MPM grid.tif')\n",
    "sitk.WriteImage(center_img, str(reg_path))"
   ]
  },
  {
   "cell_type": "code",
   "execution_count": null,
   "metadata": {},
   "outputs": [],
   "source": [
    "array = sitk.GetArrayFromImage(center_img)"
   ]
  },
  {
   "cell_type": "code",
   "execution_count": null,
   "metadata": {
    "scrolled": true
   },
   "outputs": [],
   "source": [
    "center_overlay = iplt.overlay_images(mpm_images[4], center_img, slice=1)\n",
    "plt.imshow(center_overlay)"
   ]
  },
  {
   "cell_type": "markdown",
   "metadata": {},
   "source": [
    "## Tendon"
   ]
  },
  {
   "cell_type": "code",
   "execution_count": null,
   "metadata": {},
   "outputs": [],
   "source": [
    "tendon_us_path = Path(us_dir, 'Tendon.tif')\n",
    "tendon_origin = [us_xy_origin[0], us_xy_origin[1], 4]\n",
    "us_tendon = open_us(tendon_us_path, dynamic_range, us_spacing, tendon_origin)\n",
    "\n",
    "tendon_mpm_path = Path(mpm_dir, 'Tendon_8x.tif')\n",
    "tendon_origin_path = Path(metadata_dir, 'Tendon.ome.tif')\n",
    "mpm_tendon = open_mpm(tendon_mpm_path, tendon_origin_path, mpm_spacing)"
   ]
  },
  {
   "cell_type": "code",
   "execution_count": null,
   "metadata": {},
   "outputs": [],
   "source": [
    "tendon_reg = apply_transform(us_tendon, mpm_tendon, height_transforms[0])\n",
    "#reg_path = Path(registered_dir, 'US Tendon.tif')\n",
    "#sitk.WriteImage(tendon_reg, str(reg_path))"
   ]
  },
  {
   "cell_type": "code",
   "execution_count": null,
   "metadata": {},
   "outputs": [],
   "source": [
    "tendon_mpm_reg = apply_transform(mpm_tendon, us_tendon, -1*height_transforms[0])"
   ]
  },
  {
   "cell_type": "code",
   "execution_count": null,
   "metadata": {},
   "outputs": [],
   "source": [
    "overlay_array = iplt.overlay_images(tendon_mpm_reg, us_tendon)\n",
    "overlay_img = sitk.GetImageFromArray(overlay_array)\n",
    "overlay_img.CopyInformation(us_tendon)\n",
    "iplt.MultiImageDisplay([overlay_img])"
   ]
  },
  {
   "cell_type": "code",
   "execution_count": null,
   "metadata": {},
   "outputs": [],
   "source": []
  },
  {
   "cell_type": "code",
   "execution_count": null,
   "metadata": {},
   "outputs": [],
   "source": []
  },
  {
   "cell_type": "code",
   "execution_count": null,
   "metadata": {},
   "outputs": [],
   "source": []
  },
  {
   "cell_type": "code",
   "execution_count": null,
   "metadata": {},
   "outputs": [],
   "source": []
  },
  {
   "cell_type": "markdown",
   "metadata": {},
   "source": [
    "# Off focus determination"
   ]
  },
  {
   "cell_type": "code",
   "execution_count": null,
   "metadata": {},
   "outputs": [],
   "source": [
    "height_image_names = [image for image in os.listdir(us_dir) if (image.startswith('US_H'))]\n",
    "height_image_names.append('US Rotation 1.tif')\n",
    "height_z = [-4, -4, -10, -10, -2, -2, 12, 12, 7, 7, 2, 2, 0]\n",
    "height_images = [open_us(Path(us_dir, height_image_names[idx]), dynamic_range, us_spacing, \n",
    "                         np.array([us_xy_origin[0], us_xy_origin[1], height_z[idx]]))\n",
    "                 for idx in range(len(height_z))]"
   ]
  },
  {
   "cell_type": "code",
   "execution_count": null,
   "metadata": {},
   "outputs": [],
   "source": [
    "height_images[0] = open_us(Path(us_dir, height_image_names[0]), dynamic_range, us_spacing, \n",
    "                         np.array([us_xy_origin[0], us_xy_origin[1], height_z[0]]))"
   ]
  },
  {
   "cell_type": "code",
   "execution_count": null,
   "metadata": {},
   "outputs": [],
   "source": [
    "off_focus = [name.endswith('7mm.tif') for name in height_image_names]"
   ]
  },
  {
   "cell_type": "code",
   "execution_count": null,
   "metadata": {},
   "outputs": [],
   "source": [
    "off_focus"
   ]
  },
  {
   "cell_type": "code",
   "execution_count": null,
   "metadata": {
    "scrolled": true
   },
   "outputs": [],
   "source": [
    "height_image_names"
   ]
  },
  {
   "cell_type": "code",
   "execution_count": null,
   "metadata": {
    "scrolled": true
   },
   "outputs": [],
   "source": [
    "connected_images = [connected_components(image) for image in height_images]"
   ]
  },
  {
   "cell_type": "code",
   "execution_count": null,
   "metadata": {},
   "outputs": [],
   "source": []
  },
  {
   "cell_type": "code",
   "execution_count": null,
   "metadata": {},
   "outputs": [],
   "source": [
    "stats = [get_fiducial_stats(image) for image in connected_images]\n",
    "true_labels = [filter_labels(stat) for stat in stats]\n",
    "centroids = [get_leveled_centroid(stats[idx], true_labels[idx]) for idx in range(len(stats))]\n",
    "tops = [get_leveled_top(stats[idx], true_labels[idx]) for idx in range(len(stats))]"
   ]
  },
  {
   "cell_type": "code",
   "execution_count": null,
   "metadata": {},
   "outputs": [],
   "source": [
    "offfoc_centroids = []\n",
    "onfoc_centroids = []\n",
    "for idx in range(len(centroids)):\n",
    "    if off_focus[idx]:\n",
    "        if len(centroids[idx]) == 9:\n",
    "            offfoc_centroids.append(centroids[idx])\n",
    "    else:\n",
    "        onfoc_centroids.append(centroids[idx])"
   ]
  },
  {
   "cell_type": "code",
   "execution_count": null,
   "metadata": {},
   "outputs": [],
   "source": [
    "np.std(np.array(onfoc_centroids)[:, 0:5])"
   ]
  },
  {
   "cell_type": "code",
   "execution_count": null,
   "metadata": {},
   "outputs": [],
   "source": [
    "np.std(np.array(offfoc_centroids)[:, 0:5])"
   ]
  },
  {
   "cell_type": "code",
   "execution_count": null,
   "metadata": {
    "scrolled": true
   },
   "outputs": [],
   "source": [
    "for center in centroids:\n",
    "    print(center)"
   ]
  },
  {
   "cell_type": "code",
   "execution_count": null,
   "metadata": {},
   "outputs": [],
   "source": [
    "valid_centroids = []\n",
    "for center in centroids:\n",
    "    if len(center) == 9:\n",
    "        valid_centroids.append(center)\n",
    "    \n",
    "valid_centroids = np.array(valid_centroids)"
   ]
  },
  {
   "cell_type": "code",
   "execution_count": null,
   "metadata": {},
   "outputs": [],
   "source": [
    "np.std(valid_centroids[:, 0:5])"
   ]
  },
  {
   "cell_type": "code",
   "execution_count": null,
   "metadata": {},
   "outputs": [],
   "source": [
    "valid_tops = []\n",
    "for top in tops:\n",
    "    if len(top) == 9:\n",
    "        valid_tops.append(top)\n",
    "        \n",
    "valid_tops = np.array(valid_tops)"
   ]
  },
  {
   "cell_type": "code",
   "execution_count": null,
   "metadata": {},
   "outputs": [],
   "source": [
    "np.std(valid_tops[:, 0:5])"
   ]
  },
  {
   "cell_type": "code",
   "execution_count": null,
   "metadata": {},
   "outputs": [],
   "source": [
    "bottoms = [get_leveled_bottom(stats[idx], true_labels[idx]) for idx in range(len(stats))]"
   ]
  },
  {
   "cell_type": "code",
   "execution_count": null,
   "metadata": {},
   "outputs": [],
   "source": [
    "valid_bottoms = []\n",
    "for bottom in bottoms:\n",
    "    if len(bottom) == 9:\n",
    "        valid_bottoms.append(top)\n",
    "        \n",
    "valid_bottoms = np.array(valid_tops)"
   ]
  },
  {
   "cell_type": "code",
   "execution_count": null,
   "metadata": {},
   "outputs": [],
   "source": [
    "print(np.std(valid_bottoms))\n",
    "print(np.std(valid_bottoms[:, 0:5]))"
   ]
  },
  {
   "cell_type": "code",
   "execution_count": null,
   "metadata": {},
   "outputs": [],
   "source": [
    "iplt.MultiImageDisplay(image_list=[sitk.LabelOverlay(height_images[9], connected_images[9])], title_list=[height_image_names[9]])"
   ]
  },
  {
   "cell_type": "code",
   "execution_count": null,
   "metadata": {},
   "outputs": [],
   "source": [
    "iplt.MultiImageDisplay(image_list=[sitk.LabelOverlay(height_images[8], connected_images[8])], title_list=[height_image_names[8]])"
   ]
  },
  {
   "cell_type": "code",
   "execution_count": null,
   "metadata": {},
   "outputs": [],
   "source": [
    "off_focus = [name for name in height_image_names if name.endswith('7mm.tif')]\n",
    "on_focus = [name for name in height_image_names if not name.endswith('7mm.tif')]"
   ]
  },
  {
   "cell_type": "code",
   "execution_count": null,
   "metadata": {},
   "outputs": [],
   "source": [
    "height_images[9].GetSize()"
   ]
  },
  {
   "cell_type": "code",
   "execution_count": null,
   "metadata": {},
   "outputs": [],
   "source": [
    "full_size = height_images[9].GetSize()\n",
    "roi_size = [full_size[0], full_size[1], full_size[2] - 80]\n",
    "index = [0, 0, 40]"
   ]
  },
  {
   "cell_type": "code",
   "execution_count": null,
   "metadata": {},
   "outputs": [],
   "source": [
    "cutdown_image = height_images[9][:, :, 40:180]"
   ]
  },
  {
   "cell_type": "code",
   "execution_count": null,
   "metadata": {
    "scrolled": true
   },
   "outputs": [],
   "source": [
    "conn = connected_components(cutdown_image)"
   ]
  },
  {
   "cell_type": "code",
   "execution_count": null,
   "metadata": {},
   "outputs": [],
   "source": [
    "iplt.MultiImageDisplay(image_list=[sitk.LabelOverlay(cutdown_image, conn)], title_list=[height_image_names[9]])"
   ]
  },
  {
   "cell_type": "code",
   "execution_count": null,
   "metadata": {},
   "outputs": [],
   "source": [
    "st = get_fiducial_stats(conn)"
   ]
  },
  {
   "cell_type": "code",
   "execution_count": null,
   "metadata": {},
   "outputs": [],
   "source": [
    "tl = filter_labels(st)"
   ]
  },
  {
   "cell_type": "code",
   "execution_count": null,
   "metadata": {},
   "outputs": [],
   "source": [
    "tl"
   ]
  },
  {
   "cell_type": "code",
   "execution_count": null,
   "metadata": {},
   "outputs": [],
   "source": [
    "cet = get_leveled_centroid(st, tl)"
   ]
  },
  {
   "cell_type": "code",
   "execution_count": null,
   "metadata": {},
   "outputs": [],
   "source": [
    "cet"
   ]
  },
  {
   "cell_type": "code",
   "execution_count": null,
   "metadata": {
    "scrolled": true
   },
   "outputs": [],
   "source": [
    "conn.GetOrigin()"
   ]
  },
  {
   "cell_type": "code",
   "execution_count": null,
   "metadata": {
    "scrolled": true
   },
   "outputs": [],
   "source": [
    "iplt.MultiImageDisplay(image_list=[sitk.LabelOverlay(height_images[9], conn)], title_list=[height_image_names[9]])"
   ]
  },
  {
   "cell_type": "code",
   "execution_count": null,
   "metadata": {},
   "outputs": [],
   "source": [
    "cutdown_image.GetOrigin()"
   ]
  },
  {
   "cell_type": "code",
   "execution_count": null,
   "metadata": {},
   "outputs": [],
   "source": [
    "height_images[9].GetOrigin()"
   ]
  },
  {
   "cell_type": "code",
   "execution_count": null,
   "metadata": {},
   "outputs": [],
   "source": [
    "np.std(np.array(rot_centroids)[:, 0:5])"
   ]
  },
  {
   "cell_type": "code",
   "execution_count": null,
   "metadata": {},
   "outputs": [],
   "source": [
    "help(sitk.ChangeLabelImageFilter)"
   ]
  },
  {
   "cell_type": "code",
   "execution_count": null,
   "metadata": {},
   "outputs": [],
   "source": [
    "conn"
   ]
  },
  {
   "cell_type": "code",
   "execution_count": null,
   "metadata": {},
   "outputs": [],
   "source": []
  }
 ],
 "metadata": {
  "kernelspec": {
   "display_name": "Python 3",
   "language": "python",
   "name": "python3"
  },
  "language_info": {
   "codemirror_mode": {
    "name": "ipython",
    "version": 3
   },
   "file_extension": ".py",
   "mimetype": "text/x-python",
   "name": "python",
   "nbconvert_exporter": "python",
   "pygments_lexer": "ipython3",
   "version": "3.6.6"
  }
 },
 "nbformat": 4,
 "nbformat_minor": 2
}
