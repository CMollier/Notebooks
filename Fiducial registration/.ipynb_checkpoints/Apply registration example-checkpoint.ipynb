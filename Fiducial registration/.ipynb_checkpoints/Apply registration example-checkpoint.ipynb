{
 "cells": [
  {
   "cell_type": "markdown",
   "metadata": {},
   "source": [
    "# Registration example using multiscale-imaging\n",
    "This notebook contains an example of applying the registration with the functions transferred into the multiscale-imaging package."
   ]
  },
  {
   "cell_type": "code",
   "execution_count": 1,
   "metadata": {},
   "outputs": [],
   "source": [
    "from pathlib import Path\n",
    "import numpy as np\n",
    "import SimpleITK as sitk\n",
    "%matplotlib notebook\n",
    "import matplotlib.pyplot as plt\n",
    "import math\n",
    "import pandas as pd\n",
    "import tiffile as tif\n",
    "import pickle\n",
    "import os\n",
    "\n",
    "import multiscale.microscopy.ome as ome\n",
    "import multiscale.LINK_system.coordinate as coord\n",
    "import multiscale.itk.transform as tran\n",
    "import multiscale.itk.itk_plotting as iplt"
   ]
  },
  {
   "cell_type": "markdown",
   "metadata": {},
   "source": [
    "# Set up registration\n",
    "First define the paths to each needed file.  This includes the transform parameters, the images themselves, as well as the US position list and the first tile of the microscopy image."
   ]
  },
  {
   "cell_type": "code",
   "execution_count": 2,
   "metadata": {},
   "outputs": [],
   "source": [
    "# The input files are available at https://uwmadison.box.com/s/05ou19dsi2y2wfzgocf1ab7cbbeb4fgn\n",
    "fiducial_dir = Path(r'F:\\Research\\LINK\\System calibration\\2019-08-16 - Registration phantom')\n",
    "mouse_dir = Path(r'C:\\Users\\mpinkert\\Box\\Research\\LINK\\Mouse images\\2019-09-23 - Mouse 210')\n",
    "\n",
    "registered_dir = Path(mouse_dir, 'Registered')"
   ]
  },
  {
   "cell_type": "code",
   "execution_count": 4,
   "metadata": {},
   "outputs": [],
   "source": [
    "microscopy_path = Path(mouse_dir, 'Mouse 210 SHG.tif')\n",
    "microscopy_tile_path = Path(mouse_dir, 'Mouse 210 _ SHG _ deg10 _ Kal1 _ Scan02 _ Res512 _ Zoom1_1', 'Mouse 210 _ SHG _ deg10 _ Kal1 _ Scan02 _ Res512 _ Zoom1_1_MMStack_3-Pos_000_000.ome.tif')\n",
    "\n",
    "us_path = Path(mouse_dir, 'Mouse 210 shim scaled.tif')\n",
    "us_pl_path = Path(mouse_dir, 'Moue 210 - No shim grid.pos')\n",
    "us_param_path = Path(mouse_dir, 'Mouse 210 shim 100\\Run-5', 'Mouse 210 shim 100_Run-5_Settings.mat')\n",
    "\n",
    "transform_path = Path(fiducial_dir, 'Transform with - radius.txt')"
   ]
  },
  {
   "cell_type": "markdown",
   "metadata": {},
   "source": [
    "Now open the image.  If the spacing information is not properly written to either image it can still be set manually."
   ]
  },
  {
   "cell_type": "code",
   "execution_count": 5,
   "metadata": {},
   "outputs": [],
   "source": [
    "spacing = [24, 24, 24]\n",
    "dynamic_range = 60\n",
    "gauge_height = 13287\n",
    "us_image = coord.open_us(us_path, us_pl_path, us_param_path, spacing, dynamic_range, gauge_height)"
   ]
  },
  {
   "cell_type": "code",
   "execution_count": 6,
   "metadata": {},
   "outputs": [],
   "source": [
    "microscopy_image = coord.open_microscopy(microscopy_path, microscopy_tile_path, downsample_factor=8)"
   ]
  },
  {
   "cell_type": "markdown",
   "metadata": {},
   "source": [
    "Load the coordinate transform"
   ]
  },
  {
   "cell_type": "code",
   "execution_count": 8,
   "metadata": {},
   "outputs": [],
   "source": [
    "with open(transform_path, 'rb') as fp:\n",
    "    coordinate_transform = pickle.load(fp)"
   ]
  },
  {
   "cell_type": "markdown",
   "metadata": {},
   "source": [
    "Apply the registration and save the results"
   ]
  },
  {
   "cell_type": "code",
   "execution_count": 9,
   "metadata": {},
   "outputs": [
    {
     "data": {
      "text/plain": [
       "array([-6.66554041e-04,  2.04820266e-04,  6.69836536e-04,  2.71660016e+03,\n",
       "        6.05036223e+02,  2.18660604e+04])"
      ]
     },
     "execution_count": 9,
     "metadata": {},
     "output_type": "execute_result"
    }
   ],
   "source": [
    "coordinate_transform"
   ]
  },
  {
   "cell_type": "code",
   "execution_count": 10,
   "metadata": {},
   "outputs": [],
   "source": [
    "us_reg_path = Path(registered_dir, 'US reg to MPM.tif')\n",
    "mpm_reg_path = Path(registered_dir, 'MPM Reg to US.tif')"
   ]
  },
  {
   "cell_type": "code",
   "execution_count": 11,
   "metadata": {},
   "outputs": [],
   "source": [
    "us_reg = tran.apply_transform_params(microscopy_image, us_image, \n",
    "                                     coordinate_transform,\n",
    "                                     sitk.VersorRigid3DTransform())"
   ]
  },
  {
   "cell_type": "code",
   "execution_count": 12,
   "metadata": {},
   "outputs": [],
   "source": [
    "mpm_reg = tran.apply_transform_params(us_image, microscopy_image, \n",
    "                                     -1*coordinate_transform,\n",
    "                                     sitk.VersorRigid3DTransform())"
   ]
  },
  {
   "cell_type": "code",
   "execution_count": 15,
   "metadata": {},
   "outputs": [],
   "source": [
    "sitk.WriteImage(us_reg, str(us_reg_path))"
   ]
  },
  {
   "cell_type": "code",
   "execution_count": 16,
   "metadata": {},
   "outputs": [],
   "source": [
    "sitk.WriteImage(mpm_reg, str(mpm_reg_path))"
   ]
  },
  {
   "cell_type": "code",
   "execution_count": 18,
   "metadata": {},
   "outputs": [],
   "source": [
    "us_rotated_path = Path(registered_dir, 'Mouse 210 US rotated.tif')\n",
    "sitk.WriteImage(us_image, str(us_rotated_path))"
   ]
  },
  {
   "cell_type": "code",
   "execution_count": null,
   "metadata": {},
   "outputs": [],
   "source": []
  }
 ],
 "metadata": {
  "kernelspec": {
   "display_name": "Python 3",
   "language": "python",
   "name": "python3"
  },
  "language_info": {
   "codemirror_mode": {
    "name": "ipython",
    "version": 3
   },
   "file_extension": ".py",
   "mimetype": "text/x-python",
   "name": "python",
   "nbconvert_exporter": "python",
   "pygments_lexer": "ipython3",
   "version": "3.6.6"
  }
 },
 "nbformat": 4,
 "nbformat_minor": 2
}
