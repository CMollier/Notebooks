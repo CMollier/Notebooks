{
 "cells": [
  {
   "cell_type": "markdown",
   "metadata": {},
   "source": [
    "# Introduction\n",
    "This notebook calculates the transform for changing resolutions and scan rates on the LINK imaging system."
   ]
  },
  {
   "cell_type": "code",
   "execution_count": 1,
   "metadata": {},
   "outputs": [],
   "source": [
    "# Import basic moduless\n",
    "from pathlib import Path\n",
    "import numpy as np\n",
    "import SimpleITK as sitk\n",
    "%matplotlib notebook\n",
    "import matplotlib.pyplot as plt\n",
    "import tiffile as tif\n",
    "import pickle\n",
    "import os"
   ]
  },
  {
   "cell_type": "code",
   "execution_count": 2,
   "metadata": {},
   "outputs": [],
   "source": [
    "# These modules all come from the multiscale-imaging package: https://github.com/uw-loci/multiscale\n",
    "import multiscale.LINK_system.coordinate as coord\n",
    "import multiscale.itk.transform as tran\n",
    "import multiscale.itk.itk_plotting as iplt\n",
    "import multiscale.itk.registration as reg\n",
    "import multiscale.microscopy.ome as ome"
   ]
  },
  {
   "cell_type": "code",
   "execution_count": null,
   "metadata": {},
   "outputs": [],
   "source": [
    "Open the images"
   ]
  },
  {
   "cell_type": "code",
   "execution_count": 3,
   "metadata": {},
   "outputs": [
    {
     "name": "stderr",
     "output_type": "stream",
     "text": [
      "c:\\users\\mpinkert\\documents\\github\\multiscale\\multiscale\\microscopy\\ome.py:75: UserWarning: These images are 2D.  Setting Z size to 1 micron.\n",
      "  warnings.warn('These images are 2D.  Setting Z size to 1 micron.')\n",
      "c:\\users\\mpinkert\\documents\\github\\multiscale\\multiscale\\LINK_system\\coordinate.py:86: UserWarning: Changing 2D image to a 3D image with 4 slices\n",
      "  warnings.warn('Changing 2D image to a 3D image with 4 slices')\n"
     ]
    }
   ],
   "source": [
    "resolution_dir = Path(r'C:\\Users\\mpinkert\\Box\\Research\\LINK\\System calibration\\2019-10-17 TF# and Resolution shifts\\Resolution Shifts')\n",
    "file_name = 'MMStack_Pos0.ome.tif'\n",
    "\n",
    "resolution_list = ['256', '256 scan rate 0-5', '512', '1024', '1024 scan rate 0-5']\n",
    "file_names = [Path(resolution_dir, resolution, file_name) for resolution in resolution_list]\n",
    "\n",
    "image_list = [coord.open_microscopy(file, file, downsample_factor=1) for file in file_names]"
   ]
  },
  {
   "cell_type": "markdown",
   "metadata": {},
   "source": [
    "Acquire similar points between images"
   ]
  },
  {
   "cell_type": "code",
   "execution_count": 9,
   "metadata": {},
   "outputs": [
    {
     "name": "stdout",
     "output_type": "stream",
     "text": [
      "Coordinate transform for 256 scan rate 0-5 to 256: [-3.89733741e+01 -5.64075703e+00  1.07394337e-14]\n",
      "Coordinate transform for 512 to 256: [-1.19129305e+01 -2.79579563e+00 -3.00058510e-15]\n",
      "Coordinate transform for 1024 to 256: [-2.49675130e+01 -1.05903645e+00  5.80936665e-17]\n",
      "Coordinate transform for 1024 scan rate 0-5 to 256: [-6.46034126e+00 -4.08916047e-02  8.41799235e-16]\n",
      "Coordinate transform for 512 to 256 scan rate 0-5: [ 1.18583700e+01  5.19375254e+00 -6.96635611e-16]\n",
      "Coordinate transform for 1024 to 256 scan rate 0-5: [ 1.33474155e+01  8.02533398e-01 -2.25854026e-17]\n",
      "Coordinate transform for 1024 scan rate 0-5 to 256 scan rate 0-5: [-7.37381060e-01 -8.80646959e+00 -3.45194000e-14]\n",
      "Coordinate transform for 1024 to 512: [-8.27501154e+00 -9.21482385e-01 -2.96368151e-16]\n",
      "Coordinate transform for 1024 scan rate 0-5 to 512: [-1.04405450e+01  1.27805608e+00 -2.92567923e-15]\n",
      "Coordinate transform for 1024 scan rate 0-5 to 1024: [-9.56378482e+00 -7.08893606e+00 -7.85101362e-16]\n"
     ]
    }
   ],
   "source": [
    "transforms = []\n",
    "for fixed_idx in range(len(resolution_list)-1):\n",
    "    for moving_idx in range(fixed_idx + 1, len(resolution_list)):\n",
    "        initial_transform = sitk.TranslationTransform(3, [0, 0, 0])\n",
    "        final_transform, metric, stop = reg.register(image_list[fixed_idx], image_list[moving_idx], initial_transform=initial_transform)\n",
    "        final_params = final_transform.GetParameters()\n",
    "        coordinate_transform = np.array(final_params)\n",
    "        transforms.append(coordinate_transform)\n",
    "        print('Coordinate transform for {} to {}: {}'.format(\n",
    "            resolution_list[moving_idx], resolution_list[fixed_idx], coordinate_transform))\n",
    "        coordinate_path = Path(resolution_dir, 'Transform for {} to {}.txt'.format(\n",
    "            resolution_list[moving_idx], resolution_list[fixed_idx]))\n",
    "        with open(coordinate_path, 'wb') as fp:\n",
    "            pickle.dump(coordinate_transform, fp)\n",
    "        "
   ]
  }
 ],
 "metadata": {
  "kernelspec": {
   "display_name": "Python 3",
   "language": "python",
   "name": "python3"
  },
  "language_info": {
   "codemirror_mode": {
    "name": "ipython",
    "version": 3
   },
   "file_extension": ".py",
   "mimetype": "text/x-python",
   "name": "python",
   "nbconvert_exporter": "python",
   "pygments_lexer": "ipython3",
   "version": "3.6.6"
  }
 },
 "nbformat": 4,
 "nbformat_minor": 2
}
