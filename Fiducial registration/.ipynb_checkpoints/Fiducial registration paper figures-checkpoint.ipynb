{
 "cells": [
  {
   "cell_type": "code",
   "execution_count": 1,
   "metadata": {},
   "outputs": [],
   "source": [
    "from pathlib import Path\n",
    "import numpy as np\n",
    "import SimpleITK as sitk\n",
    "%matplotlib notebook\n",
    "import multiscale.ultrasound.reconstruction as recon\n",
    "import multiscale.itk.itk_plotting as iplt\n",
    "import multiscale.itk.registration as reg\n",
    "import multiscale.itk.process as proc\n",
    "import multiscale.utility_functions as util\n",
    "import matplotlib.pyplot as plt\n",
    "import math\n",
    "import pandas as pd\n",
    "import tiffile as tif"
   ]
  },
  {
   "cell_type": "code",
   "execution_count": 37,
   "metadata": {},
   "outputs": [],
   "source": [
    "def open_us(us_path, dynamic_range, spacing, origin):\n",
    "    \"\"\"Open the US image, window it to a dynamic range, and rotate it to microscope coordinate axes\"\"\"\n",
    "    raw_image = sitk.ReadImage(us_path)\n",
    "    windowed_image = proc.window_image(raw_image, dynamic_range)\n",
    "    us_image = rotate_axes_to_microscope(windowed_image)\n",
    "    \n",
    "    us_image.SetSpacing(spacing)\n",
    "    us_image.SetOrigin(origin)\n",
    "    \n",
    "    return us_image\n",
    "\n",
    "def rotate_axes_to_microscope(image):\n",
    "    \"\"\"Rotate the US axes to be along the microscope axes\"\"\"\n",
    "    arr = sitk.GetArrayFromImage(us_image2_windowed)\n",
    "    arr_rot = np.swapaxes(arr, 0, 1)\n",
    "    arr_rot = np.flip(arr_rot, 0).astype(np.uint8)\n",
    "    return sitk.GetImageFromArray(arr_rot)\n",
    "\n",
    "def positions_from_ometif(file_path):\n",
    "    reader = sitk.ImageFileReader()\n",
    "    reader.SetFileName(str(file_path))\n",
    "    reader.ReadImageInformation()\n",
    "    raw_info = reader.GetMetaData('ImageDescription')\n",
    "    info = tif.xml2dict(raw_info)\n",
    "    mpm_list = []\n",
    "    for position in info['OME']['Image']:\n",
    "        x = position['StageLabel']['X']\n",
    "        y = position['StageLabel']['Y']\n",
    "        z = position['Pixels']['Plane'][0]['PositionZ']\n",
    "        mpm_list.append(np.array([x, y, z]))\n",
    "    return np.array(mpm_list)"
   ]
  },
  {
   "cell_type": "code",
   "execution_count": 35,
   "metadata": {},
   "outputs": [],
   "source": [
    "us_pl_path = Path(r'C:\\Users\\mpinkert\\Box\\Research\\LINK\\Phantom Trials\\2019-05-04\\2019-05-04_US - 3X 100YSep.pos')\n",
    "raw_pos_list = util.read_json(us_pl_path)\n",
    "pos_list = recon.clean_position_text(raw_pos_list)[0]\n",
    "us_xy_origin = np.min(pos_list, 0)"
   ]
  },
  {
   "cell_type": "code",
   "execution_count": 36,
   "metadata": {},
   "outputs": [
    {
     "data": {
      "text/plain": [
       "array([[-10128.11, -10999.92],\n",
       "       [-10128.11, -10899.92],\n",
       "       [-10128.11, -10799.92],\n",
       "       ...,\n",
       "       [  4922.35,  13400.08],\n",
       "       [  4922.35,  13500.08],\n",
       "       [  4922.35,  13600.08]])"
      ]
     },
     "execution_count": 36,
     "metadata": {},
     "output_type": "execute_result"
    }
   ],
   "source": [
    "pos_list"
   ]
  },
  {
   "cell_type": "code",
   "execution_count": null,
   "metadata": {},
   "outputs": [],
   "source": [
    "\n",
    "us1_path = Path(r'F:\\Research\\LINK\\Phantom Trials\\2019-04-04\\Fiducial sens0 v8-6','fused_tp_0_ch_0.tif')\n",
    "mpm1_path = Path(r'F:\\Research\\LINK\\Phantom Trials\\2019-04-04', 'Fiducial 5deg_8x.tif')"
   ]
  },
  {
   "cell_type": "code",
   "execution_count": 3,
   "metadata": {},
   "outputs": [],
   "source": [
    "# I forgot to save the position \n",
    "im5_path = Path(r'F:\\Research\\LINK\\Phantom Trials\\2019-05-05', 'Fiducial acq 5 _ Step25 Scan02 Kal1 Deg3_1_MMStack_1-Pos_000_000.ome.tif')"
   ]
  },
  {
   "cell_type": "code",
   "execution_count": 11,
   "metadata": {},
   "outputs": [],
   "source": [
    "info = reader.GetMetaData('ImageDescription')"
   ]
  },
  {
   "cell_type": "code",
   "execution_count": 12,
   "metadata": {},
   "outputs": [],
   "source": [
    "test = tif.xml2dict(info)"
   ]
  },
  {
   "cell_type": "code",
   "execution_count": 38,
   "metadata": {},
   "outputs": [],
   "source": [
    "positions = positions_from_ometif(im5_path)"
   ]
  },
  {
   "cell_type": "code",
   "execution_count": 42,
   "metadata": {},
   "outputs": [
    {
     "data": {
      "text/plain": [
       "array([[ 2342.773 ,  -398.4635,  -900.    ],\n",
       "       [ 2838.901 ,  -398.4635,  -900.    ],\n",
       "       [ 3335.029 ,  -398.4635,  -900.    ],\n",
       "       ...,\n",
       "       [-2038.706 , -3511.4455,  -900.    ],\n",
       "       [-1542.578 , -3511.4455,  -900.    ],\n",
       "       [-1046.45  , -3511.4455,  -900.    ]])"
      ]
     },
     "execution_count": 42,
     "metadata": {},
     "output_type": "execute_result"
    }
   ],
   "source": [
    "positions"
   ]
  },
  {
   "cell_type": "code",
   "execution_count": 41,
   "metadata": {},
   "outputs": [
    {
     "data": {
      "text/plain": [
       "array([-11982.135 , -11449.4935,   -900.    ])"
      ]
     },
     "execution_count": 41,
     "metadata": {},
     "output_type": "execute_result"
    }
   ],
   "source": [
    "np.min(positions, 0)"
   ]
  },
  {
   "cell_type": "code",
   "execution_count": null,
   "metadata": {},
   "outputs": [],
   "source": []
  }
 ],
 "metadata": {
  "kernelspec": {
   "display_name": "Python 3",
   "language": "python",
   "name": "python3"
  },
  "language_info": {
   "codemirror_mode": {
    "name": "ipython",
    "version": 3
   },
   "file_extension": ".py",
   "mimetype": "text/x-python",
   "name": "python",
   "nbconvert_exporter": "python",
   "pygments_lexer": "ipython3",
   "version": "3.6.6"
  }
 },
 "nbformat": 4,
 "nbformat_minor": 2
}
