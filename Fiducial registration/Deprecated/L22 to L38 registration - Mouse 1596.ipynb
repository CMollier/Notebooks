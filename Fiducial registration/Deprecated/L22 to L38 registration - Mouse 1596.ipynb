{
 "cells": [
  {
   "cell_type": "markdown",
   "metadata": {},
   "source": [
    "# Registration example using multiscale-imaging\n",
    "This notebook contains an example of applying the registration with the functions transferred into the multiscale-imaging package."
   ]
  },
  {
   "cell_type": "code",
   "execution_count": 1,
   "metadata": {},
   "outputs": [],
   "source": [
    "from pathlib import Path\n",
    "import numpy as np\n",
    "import SimpleITK as sitk\n",
    "%matplotlib notebook\n",
    "import matplotlib.pyplot as plt\n",
    "import math\n",
    "import pandas as pd\n",
    "import tiffile as tif\n",
    "import pickle\n",
    "import os\n",
    "\n",
    "import multiscale.microscopy.ome as ome\n",
    "import multiscale.LINK_system.coordinate as coord\n",
    "import multiscale.itk.transform as tran\n",
    "import multiscale.itk.itk_plotting as iplt"
   ]
  },
  {
   "cell_type": "markdown",
   "metadata": {},
   "source": [
    "# Set up registration\n",
    "First define the paths to each needed file.  This includes the transform parameters, the images themselves, as well as the US position list and the first tile of the microscopy image."
   ]
  },
  {
   "cell_type": "code",
   "execution_count": 2,
   "metadata": {},
   "outputs": [],
   "source": [
    "# The input files are available at https://uwmadison.box.com/s/05ou19dsi2y2wfzgocf1ab7cbbeb4fgn\n",
    "fiducial_dir_l22 = Path(r'F:\\Research\\LINK\\Mouse images\\2019-09-28 Mouse 1596\\L22 fiducial')\n",
    "fiducial_dir_l38 = Path(r'F:\\Research\\LINK\\Mouse images\\2019-09-28 Mouse 1596\\L38 fiducial')\n",
    "\n",
    "mouse_dir = Path(r'F:\\Research\\LINK\\Mouse images\\2019-09-28 Mouse 1596\\Mouse 1596')\n",
    "\n",
    "registered_dir = Path(r'F:\\Research\\LINK\\Mouse images\\2019-09-28 Mouse 1596\\Registered')"
   ]
  },
  {
   "cell_type": "code",
   "execution_count": 3,
   "metadata": {},
   "outputs": [],
   "source": [
    "# l22_path = Path(mouse_dir, 'L22 Mouse 1596 Z16727.tif')\n",
    "l22_path = Path(mouse_dir, 'L22 IBC.tif')\n",
    "\n",
    "l22_pl_path = Path(mouse_dir, 'L22 Mouse 1596 Z16727.pos')\n",
    "l22_param_path = Path(mouse_dir, 'L22 Mouse 1596 Z16727_Run-1_Settings.mat')\n",
    "l22_transform_path = Path(fiducial_dir_l22, 'L22 Transform.txt')\n",
    "\n",
    "\n",
    "# l38_path = Path(mouse_dir, 'L38 Mouse 1596 Z13422_Run-1.tif')\n",
    "l38_path = Path(mouse_dir, 'L38 IBC.tif')\n",
    "l38_pl_path = Path(mouse_dir, 'L38 Mouse 1596 Z13422.pos')\n",
    "l38_param_path = Path(mouse_dir, 'L38 Mouse 1596 Z13422_Run-1_Settings.mat')\n",
    "l38_transform_path = Path(fiducial_dir_l38, 'L38 Transform.txt')"
   ]
  },
  {
   "cell_type": "markdown",
   "metadata": {},
   "source": [
    "Now open the image.  If the spacing information is not properly written to either image it can still be set manually."
   ]
  },
  {
   "cell_type": "code",
   "execution_count": 4,
   "metadata": {},
   "outputs": [
    {
     "name": "stdout",
     "output_type": "stream",
     "text": [
      "69.70026\n",
      "36.090515\n"
     ]
    }
   ],
   "source": [
    "l22_spacing = [18.48, 18.48, 18.48]\n",
    "# l22_dynamic_range = 80\n",
    "l22_dynamic_range = None\n",
    "l22_gauge_height = 16727\n",
    "l22_image = coord.open_us(l22_path, l22_pl_path, l22_param_path, l22_spacing, l22_dynamic_range, l22_gauge_height)\n",
    "\n",
    "l38_spacing = [12, 12, 12]\n",
    "# l38_dynamic_range = 80\n",
    "l38_dynamic_range = None\n",
    "l38_gauge_height = 13422\n",
    "l38_image = coord.open_us(l38_path, l38_pl_path, l38_param_path, l38_spacing, l38_dynamic_range, l38_gauge_height)"
   ]
  },
  {
   "cell_type": "markdown",
   "metadata": {},
   "source": [
    "Load the coordinate transform"
   ]
  },
  {
   "cell_type": "code",
   "execution_count": 5,
   "metadata": {},
   "outputs": [],
   "source": [
    "with open(l22_transform_path, 'rb') as fp:\n",
    "    l22_transform = pickle.load(fp)\n",
    "    \n",
    "with open(l38_transform_path, 'rb') as fp:\n",
    "    l38_transform = pickle.load(fp)"
   ]
  },
  {
   "cell_type": "markdown",
   "metadata": {},
   "source": [
    "Apply the registration and save the results"
   ]
  },
  {
   "cell_type": "code",
   "execution_count": 6,
   "metadata": {},
   "outputs": [],
   "source": [
    "l22_to_l38_transform = l22_transform - l38_transform"
   ]
  },
  {
   "cell_type": "code",
   "execution_count": 7,
   "metadata": {},
   "outputs": [],
   "source": [
    "l22_to_l38_reg_path = Path(registered_dir, 'L22 IBC to L38.tif')"
   ]
  },
  {
   "cell_type": "code",
   "execution_count": 8,
   "metadata": {},
   "outputs": [],
   "source": [
    "l22_to_l38_reg = tran.apply_transform_params(l38_image, l22_image, \n",
    "                                     l22_to_l38_transform,\n",
    "                                     sitk.VersorRigid3DTransform())"
   ]
  },
  {
   "cell_type": "code",
   "execution_count": 9,
   "metadata": {},
   "outputs": [],
   "source": [
    "sitk.WriteImage(l22_to_l38_reg, str(l22_to_l38_reg_path))"
   ]
  },
  {
   "cell_type": "code",
   "execution_count": null,
   "metadata": {},
   "outputs": [],
   "source": []
  },
  {
   "cell_type": "code",
   "execution_count": 10,
   "metadata": {},
   "outputs": [],
   "source": [
    "us_rotated_path = Path(registered_dir, 'L38 IBC rotated.tif')\n",
    "sitk.WriteImage(l38_image, str(us_rotated_path))"
   ]
  },
  {
   "cell_type": "code",
   "execution_count": null,
   "metadata": {},
   "outputs": [],
   "source": []
  }
 ],
 "metadata": {
  "kernelspec": {
   "display_name": "Python 3",
   "language": "python",
   "name": "python3"
  },
  "language_info": {
   "codemirror_mode": {
    "name": "ipython",
    "version": 3
   },
   "file_extension": ".py",
   "mimetype": "text/x-python",
   "name": "python",
   "nbconvert_exporter": "python",
   "pygments_lexer": "ipython3",
   "version": "3.6.6"
  }
 },
 "nbformat": 4,
 "nbformat_minor": 2
}
