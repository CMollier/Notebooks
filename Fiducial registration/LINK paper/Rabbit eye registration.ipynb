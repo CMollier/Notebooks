{
 "cells": [
  {
   "cell_type": "markdown",
   "metadata": {},
   "source": [
    "# Registration example using multiscale-imaging\n",
    "This notebook contains an example of applying the registration with the functions transferred into the multiscale-imaging package."
   ]
  },
  {
   "cell_type": "code",
   "execution_count": 1,
   "metadata": {},
   "outputs": [],
   "source": [
    "from pathlib import Path\n",
    "import numpy as np\n",
    "import SimpleITK as sitk\n",
    "%matplotlib notebook\n",
    "import matplotlib.pyplot as plt\n",
    "import math\n",
    "import pandas as pd\n",
    "import tiffile as tif\n",
    "import pickle\n",
    "import os\n",
    "\n",
    "import multiscale.microscopy.ome as ome\n",
    "import multiscale.LINK_system.coordinate as coord\n",
    "import multiscale.itk.transform as tran\n",
    "import multiscale.itk.itk_plotting as iplt\n",
    "import multiscale.ultrasound.reconstruction as recon"
   ]
  },
  {
   "cell_type": "markdown",
   "metadata": {},
   "source": [
    "# Set up registration\n",
    "First define the paths to each needed file.  This includes the transform parameters, the images themselves, as well as the US position list and the first tile of the microscopy image."
   ]
  },
  {
   "cell_type": "code",
   "execution_count": 2,
   "metadata": {},
   "outputs": [],
   "source": [
    "fiducial_dir = Path(r'F:\\Research\\LINK\\Eye images\\Fiducial')\n",
    "sample_dir = Path(r'F:\\Research\\LINK\\Eye images\\2019-10-11 - Eye v2\\Eye Images')\n",
    "\n",
    "registered_dir = Path(r'F:\\Research\\LINK\\Eye images\\2019-10-11 - Eye v2\\Eye Images\\Registered')"
   ]
  },
  {
   "cell_type": "markdown",
   "metadata": {},
   "source": [
    "Load the SHG image"
   ]
  },
  {
   "cell_type": "code",
   "execution_count": 94,
   "metadata": {},
   "outputs": [],
   "source": [
    "microscopy_path = Path(sample_dir, 'SHG _ down4x.tif')\n",
    "microscopy_tile_path = Path(sample_dir, 'SHG settings.ome.tif')\n",
    "microscopy_image = coord.open_microscopy(microscopy_path, microscopy_tile_path, downsample_factor=4)"
   ]
  },
  {
   "cell_type": "markdown",
   "metadata": {},
   "source": [
    "Load the US image"
   ]
  },
  {
   "cell_type": "code",
   "execution_count": 41,
   "metadata": {},
   "outputs": [
    {
     "data": {
      "text/plain": [
       "(4.08, 4.08, 20.0)"
      ]
     },
     "execution_count": 41,
     "metadata": {},
     "output_type": "execute_result"
    }
   ],
   "source": [
    "microscopy_image.GetSpacing()"
   ]
  },
  {
   "cell_type": "code",
   "execution_count": 34,
   "metadata": {},
   "outputs": [],
   "source": [
    "us_path = Path(sample_dir, 'US Z3225_Run-1.tif')\n",
    "us_pl_path = Path(sample_dir, 'US Z3225.pos')\n",
    "us_param_path = Path(sample_dir, 'US Z3225_Run-1_Settings.mat')\n",
    "\n",
    "us_transform_path = Path(fiducial_dir, 'L22 Transform.txt')\n",
    "\n",
    "spacing = [36, 36, 36]\n",
    "dynamic_range = 80\n",
    "gauge_height = 3225\n",
    "us_image = coord.open_us(us_path, us_pl_path, us_param_path, spacing, gauge_height, dynamic_range)"
   ]
  },
  {
   "cell_type": "markdown",
   "metadata": {},
   "source": [
    "Load the OCT image"
   ]
  },
  {
   "cell_type": "code",
   "execution_count": 109,
   "metadata": {
    "scrolled": true
   },
   "outputs": [],
   "source": [
    "oct_path = Path(sample_dir, 'OCT _ second image _ 60dB8bit.tif')\n",
    "oct_pl_path = Path(sample_dir, 'OCT Position v2.pos')\n",
    "spacing = [2.5, 2.5, 7.8]\n",
    "zero_reference = 3211.33\n",
    "oct_image = coord.open_oct(oct_path, oct_pl_path, spacing, zero_reference)\n",
    "\n",
    "oct_transform_path = Path(r'F:\\Research\\LINK\\System calibration\\2019-10-04 - 4x and 20x fiducial', 'OCT to SHG.txt')"
   ]
  },
  {
   "cell_type": "code",
   "execution_count": null,
   "metadata": {},
   "outputs": [],
   "source": [
    "oct_im"
   ]
  },
  {
   "cell_type": "markdown",
   "metadata": {},
   "source": [
    "Load the coordinate transform"
   ]
  },
  {
   "cell_type": "code",
   "execution_count": 104,
   "metadata": {},
   "outputs": [],
   "source": [
    "with open(us_transform_path, 'rb') as fp:\n",
    "    us_coordinate_transform = pickle.load(fp)\n",
    "    \n",
    "with open(oct_transform_path, 'rb') as fp:\n",
    "    oct_coordinate_transform = pickle.load(fp)"
   ]
  },
  {
   "cell_type": "markdown",
   "metadata": {},
   "source": [
    "Register SHG to US and save the results"
   ]
  },
  {
   "cell_type": "code",
   "execution_count": 105,
   "metadata": {},
   "outputs": [],
   "source": [
    "us_coordinate_transform[5] = us_coordinate_transform[5] - 520"
   ]
  },
  {
   "cell_type": "code",
   "execution_count": 36,
   "metadata": {},
   "outputs": [],
   "source": [
    "shg_reg_path = Path(registered_dir, 'SHG to US.tif')"
   ]
  },
  {
   "cell_type": "code",
   "execution_count": 49,
   "metadata": {},
   "outputs": [],
   "source": [
    "shg_reg = tran.apply_transform_params(us_image, microscopy_image, \n",
    "                                     -1*us_coordinate_transform,\n",
    "                                     sitk.VersorRigid3DTransform())"
   ]
  },
  {
   "cell_type": "code",
   "execution_count": 50,
   "metadata": {},
   "outputs": [],
   "source": [
    "sitk.WriteImage(sitk.Cast(shg_reg, sitk.sitkUInt8), str(shg_reg_path))"
   ]
  },
  {
   "cell_type": "code",
   "execution_count": 40,
   "metadata": {},
   "outputs": [],
   "source": [
    "us_rotated_path = Path(registered_dir, 'US rotated.tif')\n",
    "sitk.WriteImage(sitk.Cast(us_image, sitk.sitkUInt8), str(us_rotated_path))"
   ]
  },
  {
   "cell_type": "markdown",
   "metadata": {},
   "source": [
    "Register the OCT to SHG"
   ]
  },
  {
   "cell_type": "code",
   "execution_count": 85,
   "metadata": {},
   "outputs": [],
   "source": [
    "oct_coordinate_transform[3] = oct_coordinate_transform[3] + 200\n",
    "oct_coordinate_transform[4] = oct_coordinate_transform[4] + 300"
   ]
  },
  {
   "cell_type": "code",
   "execution_count": 110,
   "metadata": {},
   "outputs": [],
   "source": [
    "oct_reg = tran.apply_transform_params(microscopy_image, oct_image, oct_coordinate_transform, sitk.VersorRigid3DTransform())"
   ]
  },
  {
   "cell_type": "code",
   "execution_count": 91,
   "metadata": {},
   "outputs": [],
   "source": [
    "oct_reg_path = Path(registered_dir, 'OCT to SHG.tif')"
   ]
  },
  {
   "cell_type": "code",
   "execution_count": 114,
   "metadata": {},
   "outputs": [],
   "source": [
    "sitk.WriteImage(oct_reg, str(oct_reg_path))"
   ]
  },
  {
   "cell_type": "markdown",
   "metadata": {},
   "source": [
    "Register the OCT to US"
   ]
  },
  {
   "cell_type": "code",
   "execution_count": 111,
   "metadata": {},
   "outputs": [],
   "source": [
    "oct_to_us = tran.apply_transform_params(us_image, oct_reg,\n",
    "                                     -1*us_coordinate_transform,\n",
    "                                     sitk.VersorRigid3DTransform())"
   ]
  },
  {
   "cell_type": "code",
   "execution_count": 112,
   "metadata": {},
   "outputs": [],
   "source": [
    "oct_us_path = Path(registered_dir, 'OCT to US.tif')"
   ]
  },
  {
   "cell_type": "code",
   "execution_count": 113,
   "metadata": {},
   "outputs": [],
   "source": [
    "sitk.WriteImage(sitk.Cast(oct_to_us, sitk.sitkUInt8), str(oct_us_path))"
   ]
  },
  {
   "cell_type": "code",
   "execution_count": null,
   "metadata": {},
   "outputs": [],
   "source": []
  }
 ],
 "metadata": {
  "kernelspec": {
   "display_name": "Python 3",
   "language": "python",
   "name": "python3"
  },
  "language_info": {
   "codemirror_mode": {
    "name": "ipython",
    "version": 3
   },
   "file_extension": ".py",
   "mimetype": "text/x-python",
   "name": "python",
   "nbconvert_exporter": "python",
   "pygments_lexer": "ipython3",
   "version": "3.6.6"
  }
 },
 "nbformat": 4,
 "nbformat_minor": 2
}
