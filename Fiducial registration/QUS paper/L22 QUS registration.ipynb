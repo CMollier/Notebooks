{
 "cells": [
  {
   "cell_type": "markdown",
   "metadata": {},
   "source": [
    "# Registration example using multiscale-imaging\n",
    "This notebook contains an example of applying the registration with the functions transferred into the multiscale-imaging package."
   ]
  },
  {
   "cell_type": "code",
   "execution_count": 1,
   "metadata": {},
   "outputs": [],
   "source": [
    "from pathlib import Path\n",
    "import numpy as np\n",
    "import SimpleITK as sitk\n",
    "%matplotlib notebook\n",
    "import matplotlib.pyplot as plt\n",
    "import math\n",
    "import pandas as pd\n",
    "import tiffile as tif\n",
    "import pickle\n",
    "import os\n",
    "\n",
    "import multiscale.microscopy.ome as ome\n",
    "import multiscale.LINK_system.coordinate as coord\n",
    "import multiscale.itk.transform as tran\n",
    "import multiscale.itk.itk_plotting as iplt"
   ]
  },
  {
   "cell_type": "markdown",
   "metadata": {},
   "source": [
    "# Set up registration\n",
    "First define the paths to each needed file.  This includes the transform parameters, the images themselves, as well as the US position list and the first tile of the microscopy image."
   ]
  },
  {
   "cell_type": "code",
   "execution_count": 2,
   "metadata": {},
   "outputs": [],
   "source": [
    "# The input files are available at https://uwmadison.box.com/s/05ou19dsi2y2wfzgocf1ab7cbbeb4fgn\n",
    "fiducial_dir = Path(r'F:\\Research\\LINK\\Mouse images\\2019-10-21 - Mouse 210v2\\Fiducial')\n",
    "\n",
    "mouse_dir = Path(r'F:\\Research\\LINK\\Mouse images\\2019-10-21 - Mouse 210v2\\For registration')\n",
    "\n",
    "registered_dir = Path(r'F:\\Research\\LINK\\Mouse images\\2019-10-21 - Mouse 210v2\\Registered')"
   ]
  },
  {
   "cell_type": "code",
   "execution_count": 3,
   "metadata": {},
   "outputs": [],
   "source": [
    "# l22_path = Path(mouse_dir, 'L22 Mouse 1596 Z16727.tif')\n",
    "l22_path = Path(mouse_dir, 'L22 Mouse 210 Z16869 75dB.tif')\n",
    "\n",
    "l22_pl_path = Path(mouse_dir, 'L22 Mouse 210 Z16869.pos')\n",
    "l22_param_path = Path(mouse_dir, 'L22 Mouse 210 Z16869_Run-1_Settings.mat')\n",
    "l22_transform_path = Path(fiducial_dir, 'L22 Transform.txt')"
   ]
  },
  {
   "cell_type": "markdown",
   "metadata": {},
   "source": [
    "Now open the image.  If the spacing information is not properly written to either image it can still be set manually."
   ]
  },
  {
   "cell_type": "code",
   "execution_count": 4,
   "metadata": {},
   "outputs": [],
   "source": [
    "l22_spacing = [18, 18, 18]\n",
    "l22_gauge_height = 16869\n",
    "l22_image = coord.open_us(l22_path, l22_pl_path, l22_param_path, l22_spacing, l22_gauge_height)\n"
   ]
  },
  {
   "cell_type": "markdown",
   "metadata": {},
   "source": [
    "Load the coordinate transform"
   ]
  },
  {
   "cell_type": "code",
   "execution_count": 5,
   "metadata": {},
   "outputs": [],
   "source": [
    "microscopy_path = Path(mouse_dir, 'SHG down 8x.tif')\n",
    "microscopy_tile_path = Path(mouse_dir, 'SHG settings.ome.tif')\n",
    "microscopy_image = coord.open_microscopy(microscopy_path, microscopy_tile_path, downsample_factor=8)"
   ]
  },
  {
   "cell_type": "code",
   "execution_count": 6,
   "metadata": {},
   "outputs": [
    {
     "name": "stdout",
     "output_type": "stream",
     "text": [
      "[-3342.78975828  5146.56978679 24273.31049018]\n"
     ]
    }
   ],
   "source": [
    "with open(l22_transform_path, 'rb') as fp:\n",
    "    l22_transform = pickle.load(fp)\n",
    "    print(l22_transform)"
   ]
  },
  {
   "cell_type": "markdown",
   "metadata": {},
   "source": [
    "Apply the registration and save the results"
   ]
  },
  {
   "cell_type": "code",
   "execution_count": 7,
   "metadata": {},
   "outputs": [],
   "source": [
    "l22_to_l38_reg_path = Path(registered_dir, 'L22 to L38.tif')"
   ]
  },
  {
   "cell_type": "code",
   "execution_count": 8,
   "metadata": {},
   "outputs": [],
   "source": [
    "l22_to_shg_reg = tran.apply_transform_params(microscopy_image, l22_image, \n",
    "                                     l22_transform,\n",
    "                                     sitk.TranslationTransform(3, [0, 0, 0]))"
   ]
  },
  {
   "cell_type": "markdown",
   "metadata": {},
   "source": [
    "# QUS parameter registration"
   ]
  },
  {
   "cell_type": "code",
   "execution_count": 27,
   "metadata": {
    "scrolled": true
   },
   "outputs": [],
   "source": [
    "analysis_dir = Path(r'F:\\Research\\LINK\\Mouse images\\2019-10-21 - Mouse 210v2\\L22 Analysis 0-25 latwindow')\n",
    "l22_ibc_path = Path(analysis_dir, 'L22 Analysis 0-25 latwindow_IBC.tif')\n",
    "l22_ibc_spacing = [50, 100, 18]\n",
    "dynamic_range = 60\n",
    "l22_ibc = coord.open_us(l22_ibc_path, l22_pl_path, l22_param_path, l22_ibc_spacing, l22_gauge_height, dynamic_range)"
   ]
  },
  {
   "cell_type": "code",
   "execution_count": 28,
   "metadata": {},
   "outputs": [],
   "source": [
    "l22_ibc_reg = tran.apply_transform_params(microscopy_image, l22_ibc, \n",
    "                                     l22_transform,\n",
    "                                     sitk.TranslationTransform(3, [0, 0, 0]))"
   ]
  },
  {
   "cell_type": "code",
   "execution_count": 29,
   "metadata": {},
   "outputs": [],
   "source": [
    "l22_ibc_overlay = Path(registered_dir, 'L22 IBC and SHG on SHG coords 0-25 latwindow.tif')\n",
    "ome.save_ijstyle_overlay([l22_to_shg_reg[:, :, 4:20], microscopy_image[:, :, 4:20], l22_ibc_reg[:, :, 4:20]], l22_ibc_overlay)"
   ]
  },
  {
   "cell_type": "code",
   "execution_count": null,
   "metadata": {},
   "outputs": [],
   "source": []
  }
 ],
 "metadata": {
  "kernelspec": {
   "display_name": "Python 3",
   "language": "python",
   "name": "python3"
  },
  "language_info": {
   "codemirror_mode": {
    "name": "ipython",
    "version": 3
   },
   "file_extension": ".py",
   "mimetype": "text/x-python",
   "name": "python",
   "nbconvert_exporter": "python",
   "pygments_lexer": "ipython3",
   "version": "3.6.6"
  }
 },
 "nbformat": 4,
 "nbformat_minor": 2
}
