{
 "cells": [
  {
   "cell_type": "markdown",
   "metadata": {},
   "source": [
    "This notebook processes a SHG maximum-intensity-procession, prepared it for CurveAlign, and then processes the results."
   ]
  },
  {
   "cell_type": "code",
   "execution_count": 29,
   "metadata": {},
   "outputs": [],
   "source": [
    "from pathlib import Path\n",
    "import multiscale.toolkits.curve_align as ca\n",
    "import pandas as pd\n",
    "import numpy as np\n",
    "import multiscale.itk.metadata as meta\n",
    "import multiscale.tiling as til\n",
    "import SimpleITK as sitk"
   ]
  },
  {
   "cell_type": "markdown",
   "metadata": {},
   "source": [
    "Format the image into tiles"
   ]
  },
  {
   "cell_type": "code",
   "execution_count": 2,
   "metadata": {},
   "outputs": [],
   "source": [
    "# Specify the input directory where a 2D SHG file is.  This function processes ALL files in a folder\n",
    "input_dir = Path(r'F:\\Research\\LINK\\Mouse images\\2019-10-21 - Mouse 210v2\\SHG CA')\n",
    "output_dir = Path(input_dir, 'Tiles')\n",
    "output_suffix = 'SHG'\n",
    "batch_size = 5"
   ]
  },
  {
   "cell_type": "code",
   "execution_count": null,
   "metadata": {},
   "outputs": [],
   "source": [
    "ca.create_batches_for_chtc(input_dir, output_dir, output_suffix, batch_size=batch_size)"
   ]
  },
  {
   "cell_type": "markdown",
   "metadata": {},
   "source": [
    "The next step is to process the entirety of the \"Batches\" folder using the CHTC version of CurveAlign.  The job file is in the Batches folder.  See Yuming Liu for instructions and help on how to do so."
   ]
  },
  {
   "cell_type": "markdown",
   "metadata": {},
   "source": [
    "Once the CurveAlign analysis has finished, you now extract the statistical results from the tar files and then delete the tars, as they each contain images which consume a lot of hard drive space. "
   ]
  },
  {
   "cell_type": "code",
   "execution_count": 34,
   "metadata": {},
   "outputs": [],
   "source": [
    "tar_dir = Path(r'F:\\CA Output')\n",
    "statistics_dir = Path(input_dir, 'Statistics')\n",
    "ca.bulk_extract_tar(tar_dir, statistics_dir)"
   ]
  },
  {
   "cell_type": "markdown",
   "metadata": {},
   "source": [
    "Now you process the tile and ROI results into a single dataframe for easy analysis and image reconstruction"
   ]
  },
  {
   "cell_type": "code",
   "execution_count": 35,
   "metadata": {
    "scrolled": true
   },
   "outputs": [
    {
     "name": "stdout",
     "output_type": "stream",
     "text": [
      "Scraping results from F:\\Research\\LINK\\Mouse images\\2019-10-21 - Mouse 210v2\\SHG CA\\Statistics\\images\\CA_Out\n",
      "Done\n",
      "True\n",
      "Scraping results from F:\\Research\\LINK\\Mouse images\\2019-10-21 - Mouse 210v2\\SHG CA\\Statistics\\images\\CA_ROI\\Batch\\ROI_post_analysis\n"
     ]
    }
   ],
   "source": [
    "ca.scrape_results(statistics_dir, '' , 'SHG')"
   ]
  },
  {
   "cell_type": "code",
   "execution_count": 24,
   "metadata": {},
   "outputs": [],
   "source": [
    "results_file = Path(r'F:\\Research\\LINK\\Mouse images\\2019-10-21 - Mouse 210v2\\SHG CA\\Statistics\\ROI', 'Curve_Align_results_ROIs_SHG.csv')\n",
    "df_results = pd.read_csv(results_file, header=[0], index_col=[0, 1, 2, 3])"
   ]
  },
  {
   "cell_type": "code",
   "execution_count": 14,
   "metadata": {},
   "outputs": [],
   "source": [
    "def get_num_rois(path_to_image, tile_size=np.array([512, 512])):\n",
    "        size_full = meta.get_image_size_from_path(path_to_image)\n",
    "        num_tiles, offset_tile = til.calculate_number_of_tiles(size_full, tile_size)\n",
    "        size_roi = np.array(num_tiles) * 8\n",
    "        \n",
    "        return size_roi"
   ]
  },
  {
   "cell_type": "code",
   "execution_count": 17,
   "metadata": {},
   "outputs": [],
   "source": [
    "base_image_path = Path(input_dir, 'Mouse-210_SHG.tif')\n",
    "#\n",
    "dimensions = get_num_rois(base_image_path)\n"
   ]
  },
  {
   "cell_type": "code",
   "execution_count": 26,
   "metadata": {},
   "outputs": [
    {
     "data": {
      "text/plain": [
       "Sample     Modality  Tile    ROI    \n",
       "Mouse-210  SHG       0x-13y  ROI5x4y    0.12\n",
       "                     0x-15y  ROI3x6y    0.78\n",
       "                             ROI3x7y    0.28\n",
       "                             ROI4x7y    1.00\n",
       "                             ROI5x5y    1.00\n",
       "                             ROI5x6y    0.80\n",
       "                             ROI6x6y    1.00\n",
       "                     0x-16y  ROI7x7y    0.99\n",
       "                     0x-17y  ROI0x7y    0.97\n",
       "                             ROI1x7y    0.83\n",
       "                             ROI2x7y    0.90\n",
       "                             ROI3x7y    0.91\n",
       "                             ROI4x6y    0.97\n",
       "                             ROI4x7y    0.83\n",
       "                             ROI5x6y    0.65\n",
       "                             ROI5x7y    0.70\n",
       "                             ROI6x6y    0.64\n",
       "                             ROI6x7y    0.46\n",
       "                             ROI7x6y    1.00\n",
       "                             ROI7x7y    0.16\n",
       "                     0x-18y  ROI0x6y    0.55\n",
       "                             ROI0x7y    0.18\n",
       "                             ROI1x6y    0.94\n",
       "                             ROI1x7y    0.54\n",
       "                             ROI2x6y    0.91\n",
       "                             ROI2x7y    0.35\n",
       "                             ROI3x6y    0.74\n",
       "                             ROI3x7y    0.42\n",
       "                             ROI4x6y    1.00\n",
       "                             ROI4x7y    0.22\n",
       "                                        ... \n",
       "                     9x-9y   ROI4x2y    0.47\n",
       "                             ROI4x3y    0.59\n",
       "                             ROI4x4y    0.68\n",
       "                             ROI4x5y    0.80\n",
       "                             ROI4x6y    0.43\n",
       "                             ROI4x7y    0.21\n",
       "                             ROI5x0y    0.37\n",
       "                             ROI5x1y    0.82\n",
       "                             ROI5x2y    0.56\n",
       "                             ROI5x3y    0.60\n",
       "                             ROI5x4y    0.79\n",
       "                             ROI5x5y    0.31\n",
       "                             ROI5x6y    0.63\n",
       "                             ROI5x7y    0.36\n",
       "                             ROI6x0y    0.42\n",
       "                             ROI6x1y    0.35\n",
       "                             ROI6x2y    0.43\n",
       "                             ROI6x3y    0.42\n",
       "                             ROI6x4y    0.68\n",
       "                             ROI6x5y    0.82\n",
       "                             ROI6x6y    0.58\n",
       "                             ROI6x7y    0.36\n",
       "                             ROI7x0y    0.54\n",
       "                             ROI7x1y    0.38\n",
       "                             ROI7x2y    0.59\n",
       "                             ROI7x3y    0.52\n",
       "                             ROI7x4y    0.54\n",
       "                             ROI7x5y    0.90\n",
       "                             ROI7x6y    0.62\n",
       "                             ROI7x7y    0.46\n",
       "Name: Alignment, Length: 51365, dtype: float64"
      ]
     },
     "execution_count": 26,
     "metadata": {},
     "output_type": "execute_result"
    }
   ],
   "source": [
    "df_results['Alignment']"
   ]
  },
  {
   "cell_type": "code",
   "execution_count": 27,
   "metadata": {
    "scrolled": true
   },
   "outputs": [
    {
     "name": "stderr",
     "output_type": "stream",
     "text": [
      "c:\\users\\mpinkert\\documents\\github\\multiscale\\multiscale\\tiling.py:268: FutureWarning: get_value is deprecated and will be removed in a future release. Please use .at[] or .iat[] accessors instead\n",
      "  value = pd_series.get_value(i, col_label)\n"
     ]
    }
   ],
   "source": [
    "alignment_array = til.roi_values_to_sitk_image_array(df_results['Alignment'], dimensions, 'SHG')"
   ]
  },
  {
   "cell_type": "code",
   "execution_count": 28,
   "metadata": {},
   "outputs": [],
   "source": [
    "def write_image(image_array, path_image):\n",
    "        image = sitk.Cast(sitk.GetImageFromArray(np.transpose(image_array)), sitk.sitkFloat32)\n",
    "        sitk.WriteImage(image, str(path_image))"
   ]
  },
  {
   "cell_type": "code",
   "execution_count": 31,
   "metadata": {},
   "outputs": [],
   "source": [
    "align_path = Path(input_dir, 'Mouse-210_Alignment.tif')\n",
    "write_image(alignment_array, align_path)\n"
   ]
  },
  {
   "cell_type": "code",
   "execution_count": 32,
   "metadata": {},
   "outputs": [
    {
     "name": "stderr",
     "output_type": "stream",
     "text": [
      "c:\\users\\mpinkert\\documents\\github\\multiscale\\multiscale\\tiling.py:268: FutureWarning: get_value is deprecated and will be removed in a future release. Please use .at[] or .iat[] accessors instead\n",
      "  value = pd_series.get_value(i, col_label)\n"
     ]
    }
   ],
   "source": [
    "orientation_array = til.roi_values_to_sitk_image_array(df_results['Orientation'], dimensions, 'SHG')"
   ]
  },
  {
   "cell_type": "code",
   "execution_count": 33,
   "metadata": {},
   "outputs": [],
   "source": [
    "orient_path = Path(input_dir, 'Mouse-210_Orientation.tif')\n",
    "write_image(orientation_array, orient_path)"
   ]
  },
  {
   "cell_type": "code",
   "execution_count": null,
   "metadata": {},
   "outputs": [],
   "source": []
  }
 ],
 "metadata": {
  "kernelspec": {
   "display_name": "Python 3",
   "language": "python",
   "name": "python3"
  },
  "language_info": {
   "codemirror_mode": {
    "name": "ipython",
    "version": 3
   },
   "file_extension": ".py",
   "mimetype": "text/x-python",
   "name": "python",
   "nbconvert_exporter": "python",
   "pygments_lexer": "ipython3",
   "version": "3.6.6"
  }
 },
 "nbformat": 4,
 "nbformat_minor": 2
}
