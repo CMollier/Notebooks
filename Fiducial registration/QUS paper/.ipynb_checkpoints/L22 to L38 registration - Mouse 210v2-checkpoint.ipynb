{
 "cells": [
  {
   "cell_type": "markdown",
   "metadata": {},
   "source": [
    "# Registration example using multiscale-imaging\n",
    "This notebook contains an example of applying the registration with the functions transferred into the multiscale-imaging package."
   ]
  },
  {
   "cell_type": "code",
   "execution_count": 1,
   "metadata": {},
   "outputs": [],
   "source": [
    "from pathlib import Path\n",
    "import numpy as np\n",
    "import SimpleITK as sitk\n",
    "%matplotlib notebook\n",
    "import matplotlib.pyplot as plt\n",
    "import math\n",
    "import pandas as pd\n",
    "import tiffile as tif\n",
    "import pickle\n",
    "import os\n",
    "\n",
    "import multiscale.microscopy.ome as ome\n",
    "import multiscale.LINK_system.coordinate as coord\n",
    "import multiscale.itk.transform as tran\n",
    "import multiscale.itk.itk_plotting as iplt"
   ]
  },
  {
   "cell_type": "markdown",
   "metadata": {},
   "source": [
    "# Set up registration\n",
    "First define the paths to each needed file.  This includes the transform parameters, the images themselves, as well as the US position list and the first tile of the microscopy image."
   ]
  },
  {
   "cell_type": "code",
   "execution_count": 2,
   "metadata": {},
   "outputs": [],
   "source": [
    "# The input files are available at https://uwmadison.box.com/s/05ou19dsi2y2wfzgocf1ab7cbbeb4fgn\n",
    "fiducial_dir = Path(r'F:\\Research\\LINK\\Mouse images\\2019-10-17 - Mouse 210\\Fiducial')\n",
    "\n",
    "mouse_dir = Path(r'F:\\Research\\LINK\\Mouse images\\2019-10-17 - Mouse 210\\For registration')\n",
    "\n",
    "registered_dir = Path(r'F:\\Research\\LINK\\Mouse images\\2019-10-17 - Mouse 210\\Registered')"
   ]
  },
  {
   "cell_type": "code",
   "execution_count": 3,
   "metadata": {},
   "outputs": [],
   "source": [
    "# l22_path = Path(mouse_dir, 'L22 Mouse 1596 Z16727.tif')\n",
    "l22_path = Path(mouse_dir, 'L22 Mouse 210 Z16311 75dB.tif')\n",
    "\n",
    "l22_pl_path = Path(mouse_dir, 'L22 Mouse 210 Z16311.pos')\n",
    "l22_param_path = Path(mouse_dir, 'L22 Mouse 210 Z16311_Run-1_Settings.mat')\n",
    "l22_transform_path = Path(fiducial_dir, 'L22 Transform.txt')\n",
    "\n",
    "\n",
    "# l38_path = Path(mouse_dir, 'L38 Mouse 1596 Z13422_Run-1.tif')\n",
    "l38_path = Path(mouse_dir, 'L38 down2x 75dB.tif')\n",
    "l38_pl_path = Path(mouse_dir, 'L38 Mouse Z13046.pos')\n",
    "l38_param_path = Path(mouse_dir, 'L38 Mouse Z13046_Run-1_Settings.mat')\n",
    "l38_transform_path = Path(fiducial_dir, 'L38 Transform.txt')"
   ]
  },
  {
   "cell_type": "markdown",
   "metadata": {},
   "source": [
    "Now open the image.  If the spacing information is not properly written to either image it can still be set manually."
   ]
  },
  {
   "cell_type": "code",
   "execution_count": 4,
   "metadata": {},
   "outputs": [],
   "source": [
    "l22_spacing = [18, 18, 18]\n",
    "l22_gauge_height = 16311\n",
    "l22_image = coord.open_us(l22_path, l22_pl_path, l22_param_path, l22_spacing, l22_gauge_height)\n",
    "\n",
    "l38_spacing = [24, 24, 24]\n",
    "l38_gauge_height = 13046\n",
    "l38_image = coord.open_us(l38_path, l38_pl_path, l38_param_path, l38_spacing, l38_gauge_height)"
   ]
  },
  {
   "cell_type": "markdown",
   "metadata": {},
   "source": [
    "Load the coordinate transform"
   ]
  },
  {
   "cell_type": "code",
   "execution_count": 15,
   "metadata": {},
   "outputs": [
    {
     "name": "stdout",
     "output_type": "stream",
     "text": [
      "[ 2.99091780e-03 -9.79547966e-04 -6.96543903e-04 -3.53207746e+03\n",
      "  5.08737476e+03  2.40677073e+04]\n",
      "[-1.18556831e-03 -8.93258846e-04 -3.35746271e-04 -2.87652262e+03\n",
      "  3.76228690e+03  2.08332117e+04]\n"
     ]
    }
   ],
   "source": [
    "with open(l22_transform_path, 'rb') as fp:\n",
    "    l22_transform = pickle.load(fp)\n",
    "    print(l22_transform)\n",
    "    \n",
    "with open(l38_transform_path, 'rb') as fp:\n",
    "    l38_transform = pickle.load(fp)\n",
    "    print(l38_transform)"
   ]
  },
  {
   "cell_type": "markdown",
   "metadata": {},
   "source": [
    "Apply the registration and save the results"
   ]
  },
  {
   "cell_type": "code",
   "execution_count": 6,
   "metadata": {},
   "outputs": [],
   "source": [
    "l22_to_l38_transform = l22_transform - l38_transform"
   ]
  },
  {
   "cell_type": "code",
   "execution_count": 7,
   "metadata": {},
   "outputs": [],
   "source": [
    "l22_to_l38_reg_path = Path(registered_dir, 'L22 to L38.tif')"
   ]
  },
  {
   "cell_type": "code",
   "execution_count": 8,
   "metadata": {},
   "outputs": [],
   "source": [
    "l22_to_l38_reg = tran.apply_transform_params(l38_image, l22_image, \n",
    "                                     l22_to_l38_transform,\n",
    "                                     sitk.VersorRigid3DTransform())"
   ]
  },
  {
   "cell_type": "code",
   "execution_count": 9,
   "metadata": {},
   "outputs": [],
   "source": [
    "sitk.WriteImage(l22_to_l38_reg, str(l22_to_l38_reg_path))"
   ]
  },
  {
   "cell_type": "code",
   "execution_count": 10,
   "metadata": {},
   "outputs": [],
   "source": [
    "overlay_path = Path(registered_dir, 'L22 and L38 overlay.tif')\n",
    "ome.save_ijstyle_overlay([l22_to_l38_reg, l38_image], overlay_path)"
   ]
  },
  {
   "cell_type": "code",
   "execution_count": null,
   "metadata": {},
   "outputs": [],
   "source": []
  },
  {
   "cell_type": "code",
   "execution_count": 11,
   "metadata": {},
   "outputs": [],
   "source": [
    "microscopy_path = Path(mouse_dir, 'SHG down 8x.tif')\n",
    "microscopy_tile_path = Path(mouse_dir, 'SHG settings.ome.tif')\n",
    "microscopy_image = coord.open_microscopy(microscopy_path, microscopy_tile_path, downsample_factor=8)"
   ]
  },
  {
   "cell_type": "code",
   "execution_count": 12,
   "metadata": {},
   "outputs": [],
   "source": [
    "mpm_reg = tran.apply_transform_params(l38_image, microscopy_image, \n",
    "                                     -1*l38_transform,\n",
    "                                     sitk.VersorRigid3DTransform())"
   ]
  },
  {
   "cell_type": "code",
   "execution_count": 13,
   "metadata": {},
   "outputs": [],
   "source": [
    "l22_shg_overlay = Path(registered_dir, 'L22 and SHG overlay.tif')"
   ]
  },
  {
   "cell_type": "code",
   "execution_count": 14,
   "metadata": {},
   "outputs": [],
   "source": [
    "ome.save_ijstyle_overlay([mpm_reg, l22_to_l38_reg], l22_shg_overlay)"
   ]
  },
  {
   "cell_type": "code",
   "execution_count": null,
   "metadata": {},
   "outputs": [],
   "source": []
  },
  {
   "cell_type": "markdown",
   "metadata": {},
   "source": [
    "# QUS parameter registration"
   ]
  },
  {
   "cell_type": "code",
   "execution_count": 17,
   "metadata": {},
   "outputs": [],
   "source": [
    "l22_ibc_path = Path(mouse_dir, 'L22 Analysis_IBC 60dB.tif')\n",
    "l22_ibc = coord.open_us(l22_ibc_path, l22_pl_path, l22_param_path, l22_spacing, l22_gauge_height)"
   ]
  },
  {
   "cell_type": "code",
   "execution_count": 18,
   "metadata": {},
   "outputs": [],
   "source": [
    "l22_ibc_reg = tran.apply_transform_params(l38_image, l22_ibc, \n",
    "                                     l22_to_l38_transform,\n",
    "                                     sitk.VersorRigid3DTransform())"
   ]
  },
  {
   "cell_type": "code",
   "execution_count": 21,
   "metadata": {},
   "outputs": [],
   "source": [
    "l22_ibc_overlay = Path(registered_dir, 'L22 and 60 dB IBC.tif')\n",
    "ome.save_ijstyle_overlay([l22_to_l38_reg, l22_ibc_reg], l22_ibc_overlay)"
   ]
  },
  {
   "cell_type": "code",
   "execution_count": null,
   "metadata": {},
   "outputs": [],
   "source": []
  }
 ],
 "metadata": {
  "kernelspec": {
   "display_name": "Python 3",
   "language": "python",
   "name": "python3"
  },
  "language_info": {
   "codemirror_mode": {
    "name": "ipython",
    "version": 3
   },
   "file_extension": ".py",
   "mimetype": "text/x-python",
   "name": "python",
   "nbconvert_exporter": "python",
   "pygments_lexer": "ipython3",
   "version": "3.6.6"
  }
 },
 "nbformat": 4,
 "nbformat_minor": 2
}
