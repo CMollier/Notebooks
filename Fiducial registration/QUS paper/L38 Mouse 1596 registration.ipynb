{
 "cells": [
  {
   "cell_type": "markdown",
   "metadata": {},
   "source": [
    "# Registration example using multiscale-imaging\n",
    "This notebook contains an example of applying the registration with the functions transferred into the multiscale-imaging package."
   ]
  },
  {
   "cell_type": "code",
   "execution_count": 11,
   "metadata": {},
   "outputs": [],
   "source": [
    "from pathlib import Path\n",
    "import numpy as np\n",
    "import SimpleITK as sitk\n",
    "%matplotlib notebook\n",
    "import matplotlib.pyplot as plt\n",
    "import math\n",
    "import pandas as pd\n",
    "import tiffile as tif\n",
    "import pickle\n",
    "import os\n",
    "\n",
    "import multiscale.microscopy.ome as ome\n",
    "import multiscale.LINK_system.coordinate as coord\n",
    "import multiscale.itk.transform as tran\n",
    "import multiscale.itk.itk_plotting as iplt"
   ]
  },
  {
   "cell_type": "markdown",
   "metadata": {},
   "source": [
    "# Set up registration\n",
    "First define the paths to each needed file.  This includes the transform parameters, the images themselves, as well as the US position list and the first tile of the microscopy image."
   ]
  },
  {
   "cell_type": "code",
   "execution_count": 18,
   "metadata": {},
   "outputs": [],
   "source": [
    "# The input files are available at https://uwmadison.box.com/s/05ou19dsi2y2wfzgocf1ab7cbbeb4fgn\n",
    "fiducial_dir = Path(r'F:\\Research\\LINK\\Mouse images\\2019-10-17 - Mouse 210\\Fiducial')\n",
    "mouse_dir = Path(r'F:\\Research\\LINK\\Mouse images\\2019-10-17 - Mouse 210\\For registration')\n",
    "\n",
    "registered_dir = Path(r'F:\\Research\\LINK\\Mouse images\\2019-10-17 - Mouse 210\\Registered')"
   ]
  },
  {
   "cell_type": "code",
   "execution_count": 5,
   "metadata": {},
   "outputs": [],
   "source": [
    "microscopy_path = Path(mouse_dir, 'SHG down 8x.tif')\n",
    "microscopy_tile_path = Path(mouse_dir, 'SHG settings.ome.tif')\n",
    "\n",
    "us_path = Path(mouse_dir, 'L38 down2x 75dB.tif')\n",
    "us_pl_path = Path(mouse_dir, 'L38 Mouse Z13046.pos')\n",
    "us_param_path = Path(mouse_dir, 'L38 Mouse Z13046_Run-1_Settings.mat')\n",
    "\n",
    "transform_path = Path(fiducial_dir, 'L38 Transform.txt')"
   ]
  },
  {
   "cell_type": "markdown",
   "metadata": {},
   "source": [
    "Now open the image.  If the spacing information is not properly written to either image it can still be set manually."
   ]
  },
  {
   "cell_type": "code",
   "execution_count": 27,
   "metadata": {},
   "outputs": [],
   "source": [
    "spacing = [24, 24, 24]\n",
    "gauge_height = 13046\n",
    "us_image = coord.open_us(us_path, us_pl_path, us_param_path, spacing, gauge_height)"
   ]
  },
  {
   "cell_type": "code",
   "execution_count": 7,
   "metadata": {},
   "outputs": [],
   "source": [
    "microscopy_image = coord.open_microscopy(microscopy_path, microscopy_tile_path, downsample_factor=8)"
   ]
  },
  {
   "cell_type": "markdown",
   "metadata": {},
   "source": [
    "Load the coordinate transform"
   ]
  },
  {
   "cell_type": "code",
   "execution_count": 8,
   "metadata": {},
   "outputs": [],
   "source": [
    "with open(transform_path, 'rb') as fp:\n",
    "    coordinate_transform = pickle.load(fp)"
   ]
  },
  {
   "cell_type": "markdown",
   "metadata": {},
   "source": [
    "Apply the registration and save the results"
   ]
  },
  {
   "cell_type": "code",
   "execution_count": 23,
   "metadata": {},
   "outputs": [],
   "source": [
    "mpm_reg_path = Path(registered_dir, 'Mouse 210 - L38 and SHG.tif')"
   ]
  },
  {
   "cell_type": "code",
   "execution_count": 29,
   "metadata": {},
   "outputs": [],
   "source": [
    "mpm_reg = tran.apply_transform_params(us_image, microscopy_image, \n",
    "                                     -1*coordinate_transform,\n",
    "                                     sitk.VersorRigid3DTransform())"
   ]
  },
  {
   "cell_type": "code",
   "execution_count": 30,
   "metadata": {},
   "outputs": [],
   "source": [
    "ome.save_ijstyle_overlay([mpm_reg, us_image], mpm_reg_path)"
   ]
  },
  {
   "cell_type": "code",
   "execution_count": null,
   "metadata": {},
   "outputs": [],
   "source": []
  }
 ],
 "metadata": {
  "kernelspec": {
   "display_name": "Python 3",
   "language": "python",
   "name": "python3"
  },
  "language_info": {
   "codemirror_mode": {
    "name": "ipython",
    "version": 3
   },
   "file_extension": ".py",
   "mimetype": "text/x-python",
   "name": "python",
   "nbconvert_exporter": "python",
   "pygments_lexer": "ipython3",
   "version": "3.6.6"
  }
 },
 "nbformat": 4,
 "nbformat_minor": 2
}
