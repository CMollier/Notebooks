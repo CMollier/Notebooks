{
 "cells": [
  {
   "cell_type": "markdown",
   "metadata": {},
   "source": [
    "# Introduction\n",
    "This notebook walks through the fiducial registration process for just a single US/MPM image pair, and using the functions transferred to the multicscale-imaging package."
   ]
  },
  {
   "cell_type": "code",
   "execution_count": null,
   "metadata": {},
   "outputs": [],
   "source": [
    "# Import basic moduless\n",
    "from pathlib import Path\n",
    "import numpy as np\n",
    "import SimpleITK as sitk\n",
    "%matplotlib notebook\n",
    "import matplotlib.pyplot as plt\n",
    "import tiffile as tif\n",
    "import pickle\n",
    "import os"
   ]
  },
  {
   "cell_type": "code",
   "execution_count": null,
   "metadata": {},
   "outputs": [],
   "source": [
    "# These modules all come from the multiscale-imaging package: https://github.com/uw-loci/multiscale\n",
    "import multiscale.LINK_system.coordinate as coord\n",
    "import multiscale.itk.transform as tran\n",
    "import multiscale.itk.itk_plotting as iplt\n",
    "import multiscale.itk.registration as reg\n",
    "import multiscale.microscopy.ome as ome"
   ]
  },
  {
   "cell_type": "code",
   "execution_count": null,
   "metadata": {},
   "outputs": [],
   "source": [
    "fiducial_dir = Path(r'F:\\Research\\LINK\\Mouse images\\2019-10-17 - Mouse 210\\Fiducial')\n",
    "\n",
    "mpm_tile_path = Path(fiducial_dir, r'L22 fiducial MPM settings.ome.tif')\n",
    "mpm_path = Path(fiducial_dir, r'L22 Fiducial MPM down 4x.tif')\n",
    "\n",
    "us_path = Path(fiducial_dir, r'L22 fiducial Z16580 8bit.tif')\n",
    "us_pl_path = Path(fiducial_dir, 'L22 fiducial Z16580.pos')\n",
    "us_param_path = Path(fiducial_dir, r'L22 fiducial Z16580_Run-1_Settings.mat')\n",
    "us_height = 16580\n",
    "dynamic_range = None"
   ]
  },
  {
   "cell_type": "markdown",
   "metadata": {},
   "source": [
    "Open the images"
   ]
  },
  {
   "cell_type": "code",
   "execution_count": null,
   "metadata": {},
   "outputs": [],
   "source": [
    "mpm_image = coord.open_microscopy(mpm_path, mpm_tile_path, downsample_factor=4)"
   ]
  },
  {
   "cell_type": "code",
   "execution_count": null,
   "metadata": {},
   "outputs": [],
   "source": [
    "us_spacing = [36.001, 36.001, 36.001s]\n",
    "us_image = coord.open_us(us_path, us_pl_path, us_param_path, us_spacing, us_height, dynamic_range)"
   ]
  },
  {
   "cell_type": "markdown",
   "metadata": {},
   "source": [
    "Acquire similar points between images"
   ]
  },
  {
   "cell_type": "code",
   "execution_count": null,
   "metadata": {
    "scrolled": false
   },
   "outputs": [],
   "source": [
    "points = iplt.RegistrationPointDataAcquisition(mpm_image, us_image)"
   ]
  },
  {
   "cell_type": "code",
   "execution_count": null,
   "metadata": {},
   "outputs": [],
   "source": [
    "fixed_points, moving_points = points.get_points_flat()"
   ]
  },
  {
   "cell_type": "markdown",
   "metadata": {},
   "source": [
    "Register the images"
   ]
  },
  {
   "cell_type": "code",
   "execution_count": null,
   "metadata": {},
   "outputs": [],
   "source": [
    "initial_transform = sitk.LandmarkBasedTransformInitializer(sitk.VersorRigid3DTransform(), fixed_points, moving_points)\n",
    "final_transform, metric, stop = reg.register(mpm_image, us_image, initial_transform=initial_transform)\n",
    "final_params = final_transform.GetParameters()"
   ]
  },
  {
   "cell_type": "code",
   "execution_count": null,
   "metadata": {
    "scrolled": true
   },
   "outputs": [],
   "source": [
    "centroid, labeled_img = coord.calculate_centroid(us_image[:, :, 80:190], radius=True, output_label_img=True)"
   ]
  },
  {
   "cell_type": "code",
   "execution_count": null,
   "metadata": {},
   "outputs": [],
   "source": [
    "iplt.MultiImageDisplay([sitk.LabelOverlay(us_image[:, :, 80:190], labeled_img)])"
   ]
  },
  {
   "cell_type": "code",
   "execution_count": null,
   "metadata": {},
   "outputs": [],
   "source": [
    "fiducial_bottom = np.mean(centroid)\n",
    "\n",
    "z_translation = fiducial_bottom - (mpm_image.GetOrigin()[2])"
   ]
  },
  {
   "cell_type": "code",
   "execution_count": null,
   "metadata": {},
   "outputs": [],
   "source": [
    "coordinate_transform = np.array(final_params)\n",
    "coordinate_transform[5] = z_translation\n",
    "print('Final coordinate transform: {}'.format(coordinate_transform))"
   ]
  },
  {
   "cell_type": "code",
   "execution_count": null,
   "metadata": {},
   "outputs": [],
   "source": [
    "# Save the results\n",
    "coordinate_path = Path(fiducial_dir, 'L38 Transform.txt')\n",
    "with open(coordinate_path, 'wb') as fp:\n",
    "    pickle.dump(coordinate_transform, fp)"
   ]
  },
  {
   "cell_type": "code",
   "execution_count": null,
   "metadata": {},
   "outputs": [],
   "source": [
    "registered_dir = Path(fiducial_dir, 'Registered')"
   ]
  },
  {
   "cell_type": "code",
   "execution_count": null,
   "metadata": {},
   "outputs": [],
   "source": [
    "mpm_reg_path = Path(registered_dir, 'MPM Reg to US.tif')"
   ]
  },
  {
   "cell_type": "code",
   "execution_count": null,
   "metadata": {},
   "outputs": [],
   "source": [
    "mpm_reg = tran.apply_transform_params(us_image, mpm_image, \n",
    "                                     -1*coordinate_transform,\n",
    "                                     sitk.VersorRigid3DTransform())"
   ]
  },
  {
   "cell_type": "code",
   "execution_count": null,
   "metadata": {},
   "outputs": [],
   "source": [
    "sitk.WriteImage(mpm_reg, str(mpm_reg_path))"
   ]
  },
  {
   "cell_type": "code",
   "execution_count": null,
   "metadata": {},
   "outputs": [],
   "source": [
    "# Index 0 is no shift, index 1 is 1mm, 2 is 2mm, 3 is 3mm.\n",
    "height_transforms = [coordinate_transform.copy() for idx in range(4)]\n",
    "for idx in range(4):\n",
    "    height_transforms[idx][5] = coordinate_transform[5] - 1000*idx"
   ]
  },
  {
   "cell_type": "code",
   "execution_count": null,
   "metadata": {},
   "outputs": [],
   "source": [
    "mpm_reg = [tran.apply_transform_params(us_image, mpm_image, -1*height_transforms[idx], sitk.VersorRigid3DTransform()) for idx in range(4)]\n",
    "# for idx in range(4):\n",
    "#     reg_path = Path(registered_dir, 'MPM Height Reg {}mm.tif'.format(idx))\n",
    "#     sitk.WriteImage(mpm_reg[idx], str(reg_path))"
   ]
  },
  {
   "cell_type": "code",
   "execution_count": null,
   "metadata": {},
   "outputs": [],
   "source": [
    "# Add together the MPM images at all 4 locations to show them in the US volume.\n",
    "mpm_all_reg = mpm_reg[0] + mpm_reg[1] + mpm_reg[2] + mpm_reg[3]\n",
    "reg_path = Path(registered_dir, 'MPM Height All Reg - radius.tif')\n",
    "sitk.WriteImage(mpm_all_reg, str(reg_path))"
   ]
  },
  {
   "cell_type": "code",
   "execution_count": null,
   "metadata": {},
   "outputs": [],
   "source": [
    "us_path = Path(registered_dir, 'US rotated.tif')\n",
    "sitk.WriteImage(us_image, str(us_path))"
   ]
  },
  {
   "cell_type": "code",
   "execution_count": null,
   "metadata": {},
   "outputs": [],
   "source": [
    "arr = sitk.GetArrayFromImage(mpm_all_reg)"
   ]
  },
  {
   "cell_type": "code",
   "execution_count": null,
   "metadata": {},
   "outputs": [],
   "source": [
    "arr.dtype != np.uint8"
   ]
  },
  {
   "cell_type": "code",
   "execution_count": null,
   "metadata": {},
   "outputs": [],
   "source": [
    "overlay_path = Path(registered_dir, 'L38 fiducial overlay.tif')\n",
    "ome.save_ijstyle_overlay([mpm_all_reg, us_image], overlay_path)"
   ]
  }
 ],
 "metadata": {
  "kernelspec": {
   "display_name": "Python 3",
   "language": "python",
   "name": "python3"
  },
  "language_info": {
   "codemirror_mode": {
    "name": "ipython",
    "version": 3
   },
   "file_extension": ".py",
   "mimetype": "text/x-python",
   "name": "python",
   "nbconvert_exporter": "python",
   "pygments_lexer": "ipython3",
   "version": "3.6.6"
  }
 },
 "nbformat": 4,
 "nbformat_minor": 2
}
