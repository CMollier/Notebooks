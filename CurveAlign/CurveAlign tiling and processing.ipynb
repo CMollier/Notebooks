{
 "cells": [
  {
   "cell_type": "code",
   "execution_count": 1,
   "metadata": {},
   "outputs": [],
   "source": [
    "import multiscale.toolkits.curve_align as ca\n",
    "from pathlib import Path\n",
    "import numpy as np"
   ]
  },
  {
   "cell_type": "markdown",
   "metadata": {},
   "source": [
    "# Processing an image into bite size chunks\n",
    "This step is very simple.  It requires a single function from the multiscale imaging python package.  "
   ]
  },
  {
   "cell_type": "code",
   "execution_count": null,
   "metadata": {},
   "outputs": [],
   "source": [
    "\n",
    "\n",
    "\"\"\"     Separate a large stitched image into curve align tiles and ROIs, thresohlding out blank tiles\n",
    "\n",
    "        :param image_path: pathlib Path to the iamge file\n",
    "        :param output_dir: pathlib Path to the output diretory\n",
    "        :param output_suffix: str name convention to name the output tiles\n",
    "        :param tile_size: 2d numpy array of tile size.  E.g., [512, 512]\n",
    "        :param tile_separation: 2d numpy array of distance between tiles.\n",
    "        :param roi_size: Size of the CurveAlign ROI to process\n",
    "        :param intensity_threshold: The pixel value above which pixels are conisdered signal\n",
    "        :param number_threshold: Percentage of pixels above the threshold needed to write out the tile\n",
    "        :param skip_existing_images: Whether or not to overwrite existing outputs\n",
    "        \n",
    "\"\"\"\n",
    "\n",
    "# Link to your file\n",
    "image_path = Path(r'C:\\Users\\Michael\\Box\\For Collaborators\\For Tugba', '1045-P5_SHG.tif')\n",
    "output_dir = Path(r'C:\\Users\\Michael\\Box\\For Collaborators\\For Tugba\\Tiling output')\n",
    "\n",
    "\n",
    "# Optional parameters that have defaults\n",
    "output_suffix = 'Tiles'\n",
    "tile_size = np.array([512, 512])\n",
    "tile_separation = np.array([512, 512])\n",
    "roi_size = np.array([128, 128])\n",
    "intensity_threshold = 1\n",
    "number_threshold = 10\n",
    "skip_existing_images = True"
   ]
  },
  {
   "cell_type": "code",
   "execution_count": null,
   "metadata": {},
   "outputs": [],
   "source": [
    "ca.process_image_to_rois(image_path, output_dir, output_suffix, \n",
    "                         tile_size, tile_separation, roi_size, \n",
    "                         intensity_threshold, number_threshold, \n",
    "                         skip_existing_images)"
   ]
  },
  {
   "cell_type": "code",
   "execution_count": null,
   "metadata": {},
   "outputs": [],
   "source": []
  }
 ],
 "metadata": {
  "kernelspec": {
   "display_name": "Python 3",
   "language": "python",
   "name": "python3"
  },
  "language_info": {
   "codemirror_mode": {
    "name": "ipython",
    "version": 3
   },
   "file_extension": ".py",
   "mimetype": "text/x-python",
   "name": "python",
   "nbconvert_exporter": "python",
   "pygments_lexer": "ipython3",
   "version": "3.6.7"
  }
 },
 "nbformat": 4,
 "nbformat_minor": 2
}
